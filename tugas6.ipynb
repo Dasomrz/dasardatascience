{
  "nbformat": 4,
  "nbformat_minor": 0,
  "metadata": {
    "colab": {
      "provenance": [],
      "collapsed_sections": []
    },
    "kernelspec": {
      "name": "python3",
      "display_name": "Python 3"
    },
    "language_info": {
      "name": "python"
    }
  },
  "cells": [
    {
      "cell_type": "code",
      "execution_count": 1,
      "metadata": {
        "colab": {
          "base_uri": "https://localhost:8080/"
        },
        "id": "NwRsBpF_fOJY",
        "outputId": "4a7de411-343b-4933-e047-a501c38140df"
      },
      "outputs": [
        {
          "output_type": "stream",
          "name": "stdout",
          "text": [
            "Drive already mounted at /content/drive; to attempt to forcibly remount, call drive.mount(\"/content/drive\", force_remount=True).\n"
          ]
        }
      ],
      "source": [
        "import pandas as pd\n",
        "from google.colab import drive\n",
        "drive.mount('/content/drive')"
      ]
    },
    {
      "cell_type": "code",
      "source": [
        "path = '/content/drive/MyDrive/CSV/penjelajaahn - Sheet1 (1).csv'\n",
        "df = pd.read_csv(path)\n",
        "df.describe()"
      ],
      "metadata": {
        "colab": {
          "base_uri": "https://localhost:8080/",
          "height": 175
        },
        "id": "c8UUC-EQuk9f",
        "outputId": "61efe63d-6c90-4d1b-c426-96a3d9a51152"
      },
      "execution_count": 2,
      "outputs": [
        {
          "output_type": "execute_result",
          "data": {
            "text/plain": [
              "                         Unnamed: 0 Unnamed: 1 Unnamed: 2 Unnamed: 3  \\\n",
              "count                            52         51         51         51   \n",
              "unique                           52          7         20         34   \n",
              "top     Penerima Bansos Kabupaten X          D          4         28   \n",
              "freq                              1         11          6          4   \n",
              "\n",
              "       Unnamed: 4 Unnamed: 5  \n",
              "count          51         51  \n",
              "unique         44          6  \n",
              "top          24.9    800.000  \n",
              "freq            3         12  "
            ],
            "text/html": [
              "\n",
              "  <div id=\"df-35c8a87b-242a-4bf2-a94c-61c92b4cc8a9\">\n",
              "    <div class=\"colab-df-container\">\n",
              "      <div>\n",
              "<style scoped>\n",
              "    .dataframe tbody tr th:only-of-type {\n",
              "        vertical-align: middle;\n",
              "    }\n",
              "\n",
              "    .dataframe tbody tr th {\n",
              "        vertical-align: top;\n",
              "    }\n",
              "\n",
              "    .dataframe thead th {\n",
              "        text-align: right;\n",
              "    }\n",
              "</style>\n",
              "<table border=\"1\" class=\"dataframe\">\n",
              "  <thead>\n",
              "    <tr style=\"text-align: right;\">\n",
              "      <th></th>\n",
              "      <th>Unnamed: 0</th>\n",
              "      <th>Unnamed: 1</th>\n",
              "      <th>Unnamed: 2</th>\n",
              "      <th>Unnamed: 3</th>\n",
              "      <th>Unnamed: 4</th>\n",
              "      <th>Unnamed: 5</th>\n",
              "    </tr>\n",
              "  </thead>\n",
              "  <tbody>\n",
              "    <tr>\n",
              "      <th>count</th>\n",
              "      <td>52</td>\n",
              "      <td>51</td>\n",
              "      <td>51</td>\n",
              "      <td>51</td>\n",
              "      <td>51</td>\n",
              "      <td>51</td>\n",
              "    </tr>\n",
              "    <tr>\n",
              "      <th>unique</th>\n",
              "      <td>52</td>\n",
              "      <td>7</td>\n",
              "      <td>20</td>\n",
              "      <td>34</td>\n",
              "      <td>44</td>\n",
              "      <td>6</td>\n",
              "    </tr>\n",
              "    <tr>\n",
              "      <th>top</th>\n",
              "      <td>Penerima Bansos Kabupaten X</td>\n",
              "      <td>D</td>\n",
              "      <td>4</td>\n",
              "      <td>28</td>\n",
              "      <td>24.9</td>\n",
              "      <td>800.000</td>\n",
              "    </tr>\n",
              "    <tr>\n",
              "      <th>freq</th>\n",
              "      <td>1</td>\n",
              "      <td>11</td>\n",
              "      <td>6</td>\n",
              "      <td>4</td>\n",
              "      <td>3</td>\n",
              "      <td>12</td>\n",
              "    </tr>\n",
              "  </tbody>\n",
              "</table>\n",
              "</div>\n",
              "      <button class=\"colab-df-convert\" onclick=\"convertToInteractive('df-35c8a87b-242a-4bf2-a94c-61c92b4cc8a9')\"\n",
              "              title=\"Convert this dataframe to an interactive table.\"\n",
              "              style=\"display:none;\">\n",
              "        \n",
              "  <svg xmlns=\"http://www.w3.org/2000/svg\" height=\"24px\"viewBox=\"0 0 24 24\"\n",
              "       width=\"24px\">\n",
              "    <path d=\"M0 0h24v24H0V0z\" fill=\"none\"/>\n",
              "    <path d=\"M18.56 5.44l.94 2.06.94-2.06 2.06-.94-2.06-.94-.94-2.06-.94 2.06-2.06.94zm-11 1L8.5 8.5l.94-2.06 2.06-.94-2.06-.94L8.5 2.5l-.94 2.06-2.06.94zm10 10l.94 2.06.94-2.06 2.06-.94-2.06-.94-.94-2.06-.94 2.06-2.06.94z\"/><path d=\"M17.41 7.96l-1.37-1.37c-.4-.4-.92-.59-1.43-.59-.52 0-1.04.2-1.43.59L10.3 9.45l-7.72 7.72c-.78.78-.78 2.05 0 2.83L4 21.41c.39.39.9.59 1.41.59.51 0 1.02-.2 1.41-.59l7.78-7.78 2.81-2.81c.8-.78.8-2.07 0-2.86zM5.41 20L4 18.59l7.72-7.72 1.47 1.35L5.41 20z\"/>\n",
              "  </svg>\n",
              "      </button>\n",
              "      \n",
              "  <style>\n",
              "    .colab-df-container {\n",
              "      display:flex;\n",
              "      flex-wrap:wrap;\n",
              "      gap: 12px;\n",
              "    }\n",
              "\n",
              "    .colab-df-convert {\n",
              "      background-color: #E8F0FE;\n",
              "      border: none;\n",
              "      border-radius: 50%;\n",
              "      cursor: pointer;\n",
              "      display: none;\n",
              "      fill: #1967D2;\n",
              "      height: 32px;\n",
              "      padding: 0 0 0 0;\n",
              "      width: 32px;\n",
              "    }\n",
              "\n",
              "    .colab-df-convert:hover {\n",
              "      background-color: #E2EBFA;\n",
              "      box-shadow: 0px 1px 2px rgba(60, 64, 67, 0.3), 0px 1px 3px 1px rgba(60, 64, 67, 0.15);\n",
              "      fill: #174EA6;\n",
              "    }\n",
              "\n",
              "    [theme=dark] .colab-df-convert {\n",
              "      background-color: #3B4455;\n",
              "      fill: #D2E3FC;\n",
              "    }\n",
              "\n",
              "    [theme=dark] .colab-df-convert:hover {\n",
              "      background-color: #434B5C;\n",
              "      box-shadow: 0px 1px 3px 1px rgba(0, 0, 0, 0.15);\n",
              "      filter: drop-shadow(0px 1px 2px rgba(0, 0, 0, 0.3));\n",
              "      fill: #FFFFFF;\n",
              "    }\n",
              "  </style>\n",
              "\n",
              "      <script>\n",
              "        const buttonEl =\n",
              "          document.querySelector('#df-35c8a87b-242a-4bf2-a94c-61c92b4cc8a9 button.colab-df-convert');\n",
              "        buttonEl.style.display =\n",
              "          google.colab.kernel.accessAllowed ? 'block' : 'none';\n",
              "\n",
              "        async function convertToInteractive(key) {\n",
              "          const element = document.querySelector('#df-35c8a87b-242a-4bf2-a94c-61c92b4cc8a9');\n",
              "          const dataTable =\n",
              "            await google.colab.kernel.invokeFunction('convertToInteractive',\n",
              "                                                     [key], {});\n",
              "          if (!dataTable) return;\n",
              "\n",
              "          const docLinkHtml = 'Like what you see? Visit the ' +\n",
              "            '<a target=\"_blank\" href=https://colab.research.google.com/notebooks/data_table.ipynb>data table notebook</a>'\n",
              "            + ' to learn more about interactive tables.';\n",
              "          element.innerHTML = '';\n",
              "          dataTable['output_type'] = 'display_data';\n",
              "          await google.colab.output.renderOutput(dataTable, element);\n",
              "          const docLink = document.createElement('div');\n",
              "          docLink.innerHTML = docLinkHtml;\n",
              "          element.appendChild(docLink);\n",
              "        }\n",
              "      </script>\n",
              "    </div>\n",
              "  </div>\n",
              "  "
            ]
          },
          "metadata": {},
          "execution_count": 2
        }
      ]
    },
    {
      "cell_type": "code",
      "source": [
        "df.info()"
      ],
      "metadata": {
        "colab": {
          "base_uri": "https://localhost:8080/"
        },
        "id": "Uwf1H1SKurbN",
        "outputId": "c1255138-762f-4b34-b0d0-8a8b19a823c4"
      },
      "execution_count": 3,
      "outputs": [
        {
          "output_type": "stream",
          "name": "stdout",
          "text": [
            "<class 'pandas.core.frame.DataFrame'>\n",
            "RangeIndex: 53 entries, 0 to 52\n",
            "Data columns (total 6 columns):\n",
            " #   Column      Non-Null Count  Dtype \n",
            "---  ------      --------------  ----- \n",
            " 0   Unnamed: 0  52 non-null     object\n",
            " 1   Unnamed: 1  51 non-null     object\n",
            " 2   Unnamed: 2  51 non-null     object\n",
            " 3   Unnamed: 3  51 non-null     object\n",
            " 4   Unnamed: 4  51 non-null     object\n",
            " 5   Unnamed: 5  51 non-null     object\n",
            "dtypes: object(6)\n",
            "memory usage: 2.6+ KB\n"
          ]
        }
      ]
    },
    {
      "cell_type": "code",
      "source": [
        "import matplotlib.pyplot as plt"
      ],
      "metadata": {
        "id": "ksS2AI1fuwKQ"
      },
      "execution_count": 4,
      "outputs": []
    },
    {
      "cell_type": "code",
      "source": [
        "import statistics\n",
        "import pandas as pd\n",
        "import numpy as np\n",
        "from scipy import stats"
      ],
      "metadata": {
        "id": "xvRHMJCdu3Gw"
      },
      "execution_count": 5,
      "outputs": []
    },
    {
      "cell_type": "code",
      "source": [
        "df"
      ],
      "metadata": {
        "colab": {
          "base_uri": "https://localhost:8080/",
          "height": 1000
        },
        "id": "I1GcbfKUu6Be",
        "outputId": "469d5032-8d92-4d2e-e685-9e0e7ba282c6"
      },
      "execution_count": 6,
      "outputs": [
        {
          "output_type": "execute_result",
          "data": {
            "text/plain": [
              "                     Unnamed: 0 Unnamed: 1 Unnamed: 2              Unnamed: 3  \\\n",
              "0   Penerima Bansos Kabupaten X        NaN        NaN                     NaN   \n",
              "1                           NaN        NaN        NaN                     NaN   \n",
              "2                           No.     Daerah  Jumlah RW  Jumlah Kepala Keluarga   \n",
              "3                             1          A          5                      20   \n",
              "4                             2          B          4                      18   \n",
              "5                             3          C          9                      30   \n",
              "6                             4          D         12                      42   \n",
              "7                             5          B          4                      50   \n",
              "8                             6          F         15                      16   \n",
              "9                             7          D         18                      28   \n",
              "10                            8          E         11                      36   \n",
              "11                            9          F         10                      28   \n",
              "12                           10          A          8                      52   \n",
              "13                           11          B         14                      43   \n",
              "14                           12          F         13                      13   \n",
              "15                           13          D         10                      25   \n",
              "16                           14          F          8                      30   \n",
              "17                           15          E          5                      27   \n",
              "18                           16          C          4                      48   \n",
              "19                           17          D          6                      45   \n",
              "20                           18          B          7                      35   \n",
              "21                           19          E          8                      26   \n",
              "22                           20          E         11                      18   \n",
              "23                           21          F         14                      39   \n",
              "24                           22          E         16                      29   \n",
              "25                           23          C          4                      24   \n",
              "26                           24          D         16                      29   \n",
              "27                           25          A         14                      16   \n",
              "28                           26          A          7                      58   \n",
              "29                           27          E         12                      41   \n",
              "30                           28          B          9                      21   \n",
              "31                           29          B         18                      34   \n",
              "32                           30          D         20                      24   \n",
              "33                           31          B         15                      46   \n",
              "34                           32          F         13                      33   \n",
              "35                           33          E          4                      17   \n",
              "36                           34          D          2                      26   \n",
              "37                           35          A          3                      39   \n",
              "38                           36          C         15                      42   \n",
              "39                           37          E         10                      28   \n",
              "40                           38          F          9                      34   \n",
              "41                           39          E         12                      55   \n",
              "42                           40          D          5                      59   \n",
              "43                           41          E          6                      40   \n",
              "44                           42          D          3                      20   \n",
              "45                           43          F         12                      23   \n",
              "46                           44          A         19                      15   \n",
              "47                           45          A         17                      35   \n",
              "48                           46          B          9                      28   \n",
              "49                           47          D         11                      30   \n",
              "50                           48          D          5                      18   \n",
              "51                           49          F          4                      29   \n",
              "52                           50          E         10                      47   \n",
              "\n",
              "              Unnamed: 4       Unnamed: 5  \n",
              "0                    NaN              NaN  \n",
              "1                    NaN              NaN  \n",
              "2   Rata2 Usia  Keluarga  Nominal Bantuan  \n",
              "3                   36.5          600.000  \n",
              "4                   42.9        1.200.000  \n",
              "5                   51.6          800.000  \n",
              "6                   41.5        1.200.000  \n",
              "7                   32.6        1.500.000  \n",
              "8                   28.9        1.000.000  \n",
              "9                   27.5          600.000  \n",
              "10                  36.4          800.000  \n",
              "11                  45.7        1.200.000  \n",
              "12                  54.6        1.500.000  \n",
              "13                  29.5          800.000  \n",
              "14                  41.8          600.000  \n",
              "15                  33.5        1.000.000  \n",
              "16                  27.9          800.000  \n",
              "17                  57.6        1.000.000  \n",
              "18                  25.7          800.000  \n",
              "19                  34.9        1.500.000  \n",
              "20                  42.9          800.000  \n",
              "21                  55.8          600.000  \n",
              "22                  32.5          600.000  \n",
              "23                  40.5          800.000  \n",
              "24                  38.5        1.500.000  \n",
              "25                  24.9          600.000  \n",
              "26                  29.8        1.500.000  \n",
              "27                  41.8        1.000.000  \n",
              "28                  35.7          800.000  \n",
              "29                  56.8        1.200.000  \n",
              "30                  59.4          600.000  \n",
              "31                  51.5        1.500.000  \n",
              "32                  46.8        1.200.000  \n",
              "33                  25.6        1.000.000  \n",
              "34                  37.4          600.000  \n",
              "35                  29.6        1.200.000  \n",
              "36                  48.9        1.000.000  \n",
              "37                  54.9        1.200.000  \n",
              "38                  35.7          800.000  \n",
              "39                  24.9        1.000.000  \n",
              "40                  42.9        1.200.000  \n",
              "41                  25.8          800.000  \n",
              "42                  50.8        1.200.000  \n",
              "43                  31.9          800.000  \n",
              "44                  35.8        1.500.000  \n",
              "45                  28.6          600.000  \n",
              "46                  52.6        1.200.000  \n",
              "47                  45.4        1.000.000  \n",
              "48                  35.8        1.200.000  \n",
              "49                  40.8          800.000  \n",
              "50                  36.8        1.500.000  \n",
              "51                  24.9        1.000.000  \n",
              "52                  33.8          600.000  "
            ],
            "text/html": [
              "\n",
              "  <div id=\"df-5db812c5-706c-48bf-99f9-cb2bf594be86\">\n",
              "    <div class=\"colab-df-container\">\n",
              "      <div>\n",
              "<style scoped>\n",
              "    .dataframe tbody tr th:only-of-type {\n",
              "        vertical-align: middle;\n",
              "    }\n",
              "\n",
              "    .dataframe tbody tr th {\n",
              "        vertical-align: top;\n",
              "    }\n",
              "\n",
              "    .dataframe thead th {\n",
              "        text-align: right;\n",
              "    }\n",
              "</style>\n",
              "<table border=\"1\" class=\"dataframe\">\n",
              "  <thead>\n",
              "    <tr style=\"text-align: right;\">\n",
              "      <th></th>\n",
              "      <th>Unnamed: 0</th>\n",
              "      <th>Unnamed: 1</th>\n",
              "      <th>Unnamed: 2</th>\n",
              "      <th>Unnamed: 3</th>\n",
              "      <th>Unnamed: 4</th>\n",
              "      <th>Unnamed: 5</th>\n",
              "    </tr>\n",
              "  </thead>\n",
              "  <tbody>\n",
              "    <tr>\n",
              "      <th>0</th>\n",
              "      <td>Penerima Bansos Kabupaten X</td>\n",
              "      <td>NaN</td>\n",
              "      <td>NaN</td>\n",
              "      <td>NaN</td>\n",
              "      <td>NaN</td>\n",
              "      <td>NaN</td>\n",
              "    </tr>\n",
              "    <tr>\n",
              "      <th>1</th>\n",
              "      <td>NaN</td>\n",
              "      <td>NaN</td>\n",
              "      <td>NaN</td>\n",
              "      <td>NaN</td>\n",
              "      <td>NaN</td>\n",
              "      <td>NaN</td>\n",
              "    </tr>\n",
              "    <tr>\n",
              "      <th>2</th>\n",
              "      <td>No.</td>\n",
              "      <td>Daerah</td>\n",
              "      <td>Jumlah RW</td>\n",
              "      <td>Jumlah Kepala Keluarga</td>\n",
              "      <td>Rata2 Usia  Keluarga</td>\n",
              "      <td>Nominal Bantuan</td>\n",
              "    </tr>\n",
              "    <tr>\n",
              "      <th>3</th>\n",
              "      <td>1</td>\n",
              "      <td>A</td>\n",
              "      <td>5</td>\n",
              "      <td>20</td>\n",
              "      <td>36.5</td>\n",
              "      <td>600.000</td>\n",
              "    </tr>\n",
              "    <tr>\n",
              "      <th>4</th>\n",
              "      <td>2</td>\n",
              "      <td>B</td>\n",
              "      <td>4</td>\n",
              "      <td>18</td>\n",
              "      <td>42.9</td>\n",
              "      <td>1.200.000</td>\n",
              "    </tr>\n",
              "    <tr>\n",
              "      <th>5</th>\n",
              "      <td>3</td>\n",
              "      <td>C</td>\n",
              "      <td>9</td>\n",
              "      <td>30</td>\n",
              "      <td>51.6</td>\n",
              "      <td>800.000</td>\n",
              "    </tr>\n",
              "    <tr>\n",
              "      <th>6</th>\n",
              "      <td>4</td>\n",
              "      <td>D</td>\n",
              "      <td>12</td>\n",
              "      <td>42</td>\n",
              "      <td>41.5</td>\n",
              "      <td>1.200.000</td>\n",
              "    </tr>\n",
              "    <tr>\n",
              "      <th>7</th>\n",
              "      <td>5</td>\n",
              "      <td>B</td>\n",
              "      <td>4</td>\n",
              "      <td>50</td>\n",
              "      <td>32.6</td>\n",
              "      <td>1.500.000</td>\n",
              "    </tr>\n",
              "    <tr>\n",
              "      <th>8</th>\n",
              "      <td>6</td>\n",
              "      <td>F</td>\n",
              "      <td>15</td>\n",
              "      <td>16</td>\n",
              "      <td>28.9</td>\n",
              "      <td>1.000.000</td>\n",
              "    </tr>\n",
              "    <tr>\n",
              "      <th>9</th>\n",
              "      <td>7</td>\n",
              "      <td>D</td>\n",
              "      <td>18</td>\n",
              "      <td>28</td>\n",
              "      <td>27.5</td>\n",
              "      <td>600.000</td>\n",
              "    </tr>\n",
              "    <tr>\n",
              "      <th>10</th>\n",
              "      <td>8</td>\n",
              "      <td>E</td>\n",
              "      <td>11</td>\n",
              "      <td>36</td>\n",
              "      <td>36.4</td>\n",
              "      <td>800.000</td>\n",
              "    </tr>\n",
              "    <tr>\n",
              "      <th>11</th>\n",
              "      <td>9</td>\n",
              "      <td>F</td>\n",
              "      <td>10</td>\n",
              "      <td>28</td>\n",
              "      <td>45.7</td>\n",
              "      <td>1.200.000</td>\n",
              "    </tr>\n",
              "    <tr>\n",
              "      <th>12</th>\n",
              "      <td>10</td>\n",
              "      <td>A</td>\n",
              "      <td>8</td>\n",
              "      <td>52</td>\n",
              "      <td>54.6</td>\n",
              "      <td>1.500.000</td>\n",
              "    </tr>\n",
              "    <tr>\n",
              "      <th>13</th>\n",
              "      <td>11</td>\n",
              "      <td>B</td>\n",
              "      <td>14</td>\n",
              "      <td>43</td>\n",
              "      <td>29.5</td>\n",
              "      <td>800.000</td>\n",
              "    </tr>\n",
              "    <tr>\n",
              "      <th>14</th>\n",
              "      <td>12</td>\n",
              "      <td>F</td>\n",
              "      <td>13</td>\n",
              "      <td>13</td>\n",
              "      <td>41.8</td>\n",
              "      <td>600.000</td>\n",
              "    </tr>\n",
              "    <tr>\n",
              "      <th>15</th>\n",
              "      <td>13</td>\n",
              "      <td>D</td>\n",
              "      <td>10</td>\n",
              "      <td>25</td>\n",
              "      <td>33.5</td>\n",
              "      <td>1.000.000</td>\n",
              "    </tr>\n",
              "    <tr>\n",
              "      <th>16</th>\n",
              "      <td>14</td>\n",
              "      <td>F</td>\n",
              "      <td>8</td>\n",
              "      <td>30</td>\n",
              "      <td>27.9</td>\n",
              "      <td>800.000</td>\n",
              "    </tr>\n",
              "    <tr>\n",
              "      <th>17</th>\n",
              "      <td>15</td>\n",
              "      <td>E</td>\n",
              "      <td>5</td>\n",
              "      <td>27</td>\n",
              "      <td>57.6</td>\n",
              "      <td>1.000.000</td>\n",
              "    </tr>\n",
              "    <tr>\n",
              "      <th>18</th>\n",
              "      <td>16</td>\n",
              "      <td>C</td>\n",
              "      <td>4</td>\n",
              "      <td>48</td>\n",
              "      <td>25.7</td>\n",
              "      <td>800.000</td>\n",
              "    </tr>\n",
              "    <tr>\n",
              "      <th>19</th>\n",
              "      <td>17</td>\n",
              "      <td>D</td>\n",
              "      <td>6</td>\n",
              "      <td>45</td>\n",
              "      <td>34.9</td>\n",
              "      <td>1.500.000</td>\n",
              "    </tr>\n",
              "    <tr>\n",
              "      <th>20</th>\n",
              "      <td>18</td>\n",
              "      <td>B</td>\n",
              "      <td>7</td>\n",
              "      <td>35</td>\n",
              "      <td>42.9</td>\n",
              "      <td>800.000</td>\n",
              "    </tr>\n",
              "    <tr>\n",
              "      <th>21</th>\n",
              "      <td>19</td>\n",
              "      <td>E</td>\n",
              "      <td>8</td>\n",
              "      <td>26</td>\n",
              "      <td>55.8</td>\n",
              "      <td>600.000</td>\n",
              "    </tr>\n",
              "    <tr>\n",
              "      <th>22</th>\n",
              "      <td>20</td>\n",
              "      <td>E</td>\n",
              "      <td>11</td>\n",
              "      <td>18</td>\n",
              "      <td>32.5</td>\n",
              "      <td>600.000</td>\n",
              "    </tr>\n",
              "    <tr>\n",
              "      <th>23</th>\n",
              "      <td>21</td>\n",
              "      <td>F</td>\n",
              "      <td>14</td>\n",
              "      <td>39</td>\n",
              "      <td>40.5</td>\n",
              "      <td>800.000</td>\n",
              "    </tr>\n",
              "    <tr>\n",
              "      <th>24</th>\n",
              "      <td>22</td>\n",
              "      <td>E</td>\n",
              "      <td>16</td>\n",
              "      <td>29</td>\n",
              "      <td>38.5</td>\n",
              "      <td>1.500.000</td>\n",
              "    </tr>\n",
              "    <tr>\n",
              "      <th>25</th>\n",
              "      <td>23</td>\n",
              "      <td>C</td>\n",
              "      <td>4</td>\n",
              "      <td>24</td>\n",
              "      <td>24.9</td>\n",
              "      <td>600.000</td>\n",
              "    </tr>\n",
              "    <tr>\n",
              "      <th>26</th>\n",
              "      <td>24</td>\n",
              "      <td>D</td>\n",
              "      <td>16</td>\n",
              "      <td>29</td>\n",
              "      <td>29.8</td>\n",
              "      <td>1.500.000</td>\n",
              "    </tr>\n",
              "    <tr>\n",
              "      <th>27</th>\n",
              "      <td>25</td>\n",
              "      <td>A</td>\n",
              "      <td>14</td>\n",
              "      <td>16</td>\n",
              "      <td>41.8</td>\n",
              "      <td>1.000.000</td>\n",
              "    </tr>\n",
              "    <tr>\n",
              "      <th>28</th>\n",
              "      <td>26</td>\n",
              "      <td>A</td>\n",
              "      <td>7</td>\n",
              "      <td>58</td>\n",
              "      <td>35.7</td>\n",
              "      <td>800.000</td>\n",
              "    </tr>\n",
              "    <tr>\n",
              "      <th>29</th>\n",
              "      <td>27</td>\n",
              "      <td>E</td>\n",
              "      <td>12</td>\n",
              "      <td>41</td>\n",
              "      <td>56.8</td>\n",
              "      <td>1.200.000</td>\n",
              "    </tr>\n",
              "    <tr>\n",
              "      <th>30</th>\n",
              "      <td>28</td>\n",
              "      <td>B</td>\n",
              "      <td>9</td>\n",
              "      <td>21</td>\n",
              "      <td>59.4</td>\n",
              "      <td>600.000</td>\n",
              "    </tr>\n",
              "    <tr>\n",
              "      <th>31</th>\n",
              "      <td>29</td>\n",
              "      <td>B</td>\n",
              "      <td>18</td>\n",
              "      <td>34</td>\n",
              "      <td>51.5</td>\n",
              "      <td>1.500.000</td>\n",
              "    </tr>\n",
              "    <tr>\n",
              "      <th>32</th>\n",
              "      <td>30</td>\n",
              "      <td>D</td>\n",
              "      <td>20</td>\n",
              "      <td>24</td>\n",
              "      <td>46.8</td>\n",
              "      <td>1.200.000</td>\n",
              "    </tr>\n",
              "    <tr>\n",
              "      <th>33</th>\n",
              "      <td>31</td>\n",
              "      <td>B</td>\n",
              "      <td>15</td>\n",
              "      <td>46</td>\n",
              "      <td>25.6</td>\n",
              "      <td>1.000.000</td>\n",
              "    </tr>\n",
              "    <tr>\n",
              "      <th>34</th>\n",
              "      <td>32</td>\n",
              "      <td>F</td>\n",
              "      <td>13</td>\n",
              "      <td>33</td>\n",
              "      <td>37.4</td>\n",
              "      <td>600.000</td>\n",
              "    </tr>\n",
              "    <tr>\n",
              "      <th>35</th>\n",
              "      <td>33</td>\n",
              "      <td>E</td>\n",
              "      <td>4</td>\n",
              "      <td>17</td>\n",
              "      <td>29.6</td>\n",
              "      <td>1.200.000</td>\n",
              "    </tr>\n",
              "    <tr>\n",
              "      <th>36</th>\n",
              "      <td>34</td>\n",
              "      <td>D</td>\n",
              "      <td>2</td>\n",
              "      <td>26</td>\n",
              "      <td>48.9</td>\n",
              "      <td>1.000.000</td>\n",
              "    </tr>\n",
              "    <tr>\n",
              "      <th>37</th>\n",
              "      <td>35</td>\n",
              "      <td>A</td>\n",
              "      <td>3</td>\n",
              "      <td>39</td>\n",
              "      <td>54.9</td>\n",
              "      <td>1.200.000</td>\n",
              "    </tr>\n",
              "    <tr>\n",
              "      <th>38</th>\n",
              "      <td>36</td>\n",
              "      <td>C</td>\n",
              "      <td>15</td>\n",
              "      <td>42</td>\n",
              "      <td>35.7</td>\n",
              "      <td>800.000</td>\n",
              "    </tr>\n",
              "    <tr>\n",
              "      <th>39</th>\n",
              "      <td>37</td>\n",
              "      <td>E</td>\n",
              "      <td>10</td>\n",
              "      <td>28</td>\n",
              "      <td>24.9</td>\n",
              "      <td>1.000.000</td>\n",
              "    </tr>\n",
              "    <tr>\n",
              "      <th>40</th>\n",
              "      <td>38</td>\n",
              "      <td>F</td>\n",
              "      <td>9</td>\n",
              "      <td>34</td>\n",
              "      <td>42.9</td>\n",
              "      <td>1.200.000</td>\n",
              "    </tr>\n",
              "    <tr>\n",
              "      <th>41</th>\n",
              "      <td>39</td>\n",
              "      <td>E</td>\n",
              "      <td>12</td>\n",
              "      <td>55</td>\n",
              "      <td>25.8</td>\n",
              "      <td>800.000</td>\n",
              "    </tr>\n",
              "    <tr>\n",
              "      <th>42</th>\n",
              "      <td>40</td>\n",
              "      <td>D</td>\n",
              "      <td>5</td>\n",
              "      <td>59</td>\n",
              "      <td>50.8</td>\n",
              "      <td>1.200.000</td>\n",
              "    </tr>\n",
              "    <tr>\n",
              "      <th>43</th>\n",
              "      <td>41</td>\n",
              "      <td>E</td>\n",
              "      <td>6</td>\n",
              "      <td>40</td>\n",
              "      <td>31.9</td>\n",
              "      <td>800.000</td>\n",
              "    </tr>\n",
              "    <tr>\n",
              "      <th>44</th>\n",
              "      <td>42</td>\n",
              "      <td>D</td>\n",
              "      <td>3</td>\n",
              "      <td>20</td>\n",
              "      <td>35.8</td>\n",
              "      <td>1.500.000</td>\n",
              "    </tr>\n",
              "    <tr>\n",
              "      <th>45</th>\n",
              "      <td>43</td>\n",
              "      <td>F</td>\n",
              "      <td>12</td>\n",
              "      <td>23</td>\n",
              "      <td>28.6</td>\n",
              "      <td>600.000</td>\n",
              "    </tr>\n",
              "    <tr>\n",
              "      <th>46</th>\n",
              "      <td>44</td>\n",
              "      <td>A</td>\n",
              "      <td>19</td>\n",
              "      <td>15</td>\n",
              "      <td>52.6</td>\n",
              "      <td>1.200.000</td>\n",
              "    </tr>\n",
              "    <tr>\n",
              "      <th>47</th>\n",
              "      <td>45</td>\n",
              "      <td>A</td>\n",
              "      <td>17</td>\n",
              "      <td>35</td>\n",
              "      <td>45.4</td>\n",
              "      <td>1.000.000</td>\n",
              "    </tr>\n",
              "    <tr>\n",
              "      <th>48</th>\n",
              "      <td>46</td>\n",
              "      <td>B</td>\n",
              "      <td>9</td>\n",
              "      <td>28</td>\n",
              "      <td>35.8</td>\n",
              "      <td>1.200.000</td>\n",
              "    </tr>\n",
              "    <tr>\n",
              "      <th>49</th>\n",
              "      <td>47</td>\n",
              "      <td>D</td>\n",
              "      <td>11</td>\n",
              "      <td>30</td>\n",
              "      <td>40.8</td>\n",
              "      <td>800.000</td>\n",
              "    </tr>\n",
              "    <tr>\n",
              "      <th>50</th>\n",
              "      <td>48</td>\n",
              "      <td>D</td>\n",
              "      <td>5</td>\n",
              "      <td>18</td>\n",
              "      <td>36.8</td>\n",
              "      <td>1.500.000</td>\n",
              "    </tr>\n",
              "    <tr>\n",
              "      <th>51</th>\n",
              "      <td>49</td>\n",
              "      <td>F</td>\n",
              "      <td>4</td>\n",
              "      <td>29</td>\n",
              "      <td>24.9</td>\n",
              "      <td>1.000.000</td>\n",
              "    </tr>\n",
              "    <tr>\n",
              "      <th>52</th>\n",
              "      <td>50</td>\n",
              "      <td>E</td>\n",
              "      <td>10</td>\n",
              "      <td>47</td>\n",
              "      <td>33.8</td>\n",
              "      <td>600.000</td>\n",
              "    </tr>\n",
              "  </tbody>\n",
              "</table>\n",
              "</div>\n",
              "      <button class=\"colab-df-convert\" onclick=\"convertToInteractive('df-5db812c5-706c-48bf-99f9-cb2bf594be86')\"\n",
              "              title=\"Convert this dataframe to an interactive table.\"\n",
              "              style=\"display:none;\">\n",
              "        \n",
              "  <svg xmlns=\"http://www.w3.org/2000/svg\" height=\"24px\"viewBox=\"0 0 24 24\"\n",
              "       width=\"24px\">\n",
              "    <path d=\"M0 0h24v24H0V0z\" fill=\"none\"/>\n",
              "    <path d=\"M18.56 5.44l.94 2.06.94-2.06 2.06-.94-2.06-.94-.94-2.06-.94 2.06-2.06.94zm-11 1L8.5 8.5l.94-2.06 2.06-.94-2.06-.94L8.5 2.5l-.94 2.06-2.06.94zm10 10l.94 2.06.94-2.06 2.06-.94-2.06-.94-.94-2.06-.94 2.06-2.06.94z\"/><path d=\"M17.41 7.96l-1.37-1.37c-.4-.4-.92-.59-1.43-.59-.52 0-1.04.2-1.43.59L10.3 9.45l-7.72 7.72c-.78.78-.78 2.05 0 2.83L4 21.41c.39.39.9.59 1.41.59.51 0 1.02-.2 1.41-.59l7.78-7.78 2.81-2.81c.8-.78.8-2.07 0-2.86zM5.41 20L4 18.59l7.72-7.72 1.47 1.35L5.41 20z\"/>\n",
              "  </svg>\n",
              "      </button>\n",
              "      \n",
              "  <style>\n",
              "    .colab-df-container {\n",
              "      display:flex;\n",
              "      flex-wrap:wrap;\n",
              "      gap: 12px;\n",
              "    }\n",
              "\n",
              "    .colab-df-convert {\n",
              "      background-color: #E8F0FE;\n",
              "      border: none;\n",
              "      border-radius: 50%;\n",
              "      cursor: pointer;\n",
              "      display: none;\n",
              "      fill: #1967D2;\n",
              "      height: 32px;\n",
              "      padding: 0 0 0 0;\n",
              "      width: 32px;\n",
              "    }\n",
              "\n",
              "    .colab-df-convert:hover {\n",
              "      background-color: #E2EBFA;\n",
              "      box-shadow: 0px 1px 2px rgba(60, 64, 67, 0.3), 0px 1px 3px 1px rgba(60, 64, 67, 0.15);\n",
              "      fill: #174EA6;\n",
              "    }\n",
              "\n",
              "    [theme=dark] .colab-df-convert {\n",
              "      background-color: #3B4455;\n",
              "      fill: #D2E3FC;\n",
              "    }\n",
              "\n",
              "    [theme=dark] .colab-df-convert:hover {\n",
              "      background-color: #434B5C;\n",
              "      box-shadow: 0px 1px 3px 1px rgba(0, 0, 0, 0.15);\n",
              "      filter: drop-shadow(0px 1px 2px rgba(0, 0, 0, 0.3));\n",
              "      fill: #FFFFFF;\n",
              "    }\n",
              "  </style>\n",
              "\n",
              "      <script>\n",
              "        const buttonEl =\n",
              "          document.querySelector('#df-5db812c5-706c-48bf-99f9-cb2bf594be86 button.colab-df-convert');\n",
              "        buttonEl.style.display =\n",
              "          google.colab.kernel.accessAllowed ? 'block' : 'none';\n",
              "\n",
              "        async function convertToInteractive(key) {\n",
              "          const element = document.querySelector('#df-5db812c5-706c-48bf-99f9-cb2bf594be86');\n",
              "          const dataTable =\n",
              "            await google.colab.kernel.invokeFunction('convertToInteractive',\n",
              "                                                     [key], {});\n",
              "          if (!dataTable) return;\n",
              "\n",
              "          const docLinkHtml = 'Like what you see? Visit the ' +\n",
              "            '<a target=\"_blank\" href=https://colab.research.google.com/notebooks/data_table.ipynb>data table notebook</a>'\n",
              "            + ' to learn more about interactive tables.';\n",
              "          element.innerHTML = '';\n",
              "          dataTable['output_type'] = 'display_data';\n",
              "          await google.colab.output.renderOutput(dataTable, element);\n",
              "          const docLink = document.createElement('div');\n",
              "          docLink.innerHTML = docLinkHtml;\n",
              "          element.appendChild(docLink);\n",
              "        }\n",
              "      </script>\n",
              "    </div>\n",
              "  </div>\n",
              "  "
            ]
          },
          "metadata": {},
          "execution_count": 6
        }
      ]
    },
    {
      "cell_type": "code",
      "source": [
        "print(\"     ===== Soal 1=====\")\n",
        "a1 = 5\n",
        "a2 = 8\n",
        "a3 = 14\n",
        "a4 = 7\n",
        "a5 = 3\n",
        "a6 = 19\n",
        "a7 = 17\n",
        "\n",
        "kka_1 = 20\n",
        "kka_2 = 52\n",
        "kka_3 = 16\n",
        "kka_4 = 58\n",
        "kka_5 = 39\n",
        "kka_6 = 15\n",
        "kka_7 = 35\n",
        "\n",
        "hasil_a = a1 + a2  + a3 + a4 + a5 + a6 + a7\n",
        "hasil_kka = kka_1 + kka_2 + kka_3 + kka_4 + kka_5 + kka_6 +kka_7\n",
        "print(\"maka hasil rw daerah a adalah : \" +str(hasil_a))\n",
        "print(\"maka hasil kk daerah a adalah : \" +str(hasil_kka))\n",
        "\n",
        "b1 = 4\n",
        "b2 = 4\n",
        "b3 = 14\n",
        "b4 = 7\n",
        "b5 = 9\n",
        "b6 = 18\n",
        "b7 = 15\n",
        "b8 = 9\n",
        "\n",
        "kkb_1 = 18\n",
        "kkb_2 = 50\n",
        "kkb_3 = 43\n",
        "kkb_4 = 35\n",
        "kkb_5 = 21\n",
        "kkb_6 = 34\n",
        "kkb_7 = 46\n",
        "kkb_8 = 28\n",
        "\n",
        "hasil_b = b1 + b2  + b3 + b4 + b5 + b6 + b7 + b8\n",
        "hasil_kkb = kkb_1 + kkb_2 + kkb_3 + kkb_4 + kkb_5 + kkb_6 +kkb_7 + kkb_8\n",
        "print(\"maka hasil rw daerah b adalah : \" +str(hasil_b))\n",
        "print(\"maka hasil kk daerah b adalah : \" +str(hasil_kkb))\n",
        "\n",
        "c1 = 9\n",
        "c2 = 4\n",
        "c3 = 4\n",
        "c4 = 15\n",
        "\n",
        "kkc_1 = 30\n",
        "kkc_2 = 48\n",
        "kkc_3 = 24\n",
        "kkc_4 = 42\n",
        "\n",
        "hasil_c = c1 + c2  + c3 + c4\n",
        "hasil_kkc = kkc_1 + kkc_2 + kkc_3 + kkc_4\n",
        "print(\"maka hasil rw daerah c adalah : \" +str(hasil_c))\n",
        "print(\"maka hasil kk daerah c adalah : \" +str(hasil_kkc))\n",
        "\n",
        "d1 = 12\n",
        "d2 = 18\n",
        "d3 = 10\n",
        "d4 = 6\n",
        "d5 = 16\n",
        "d6 = 20\n",
        "d7 = 2\n",
        "d8 = 3\n",
        "d9 = 11\n",
        "d10 = 5\n",
        "d11 = 5\n",
        "\n",
        "kkd_1 = 42\n",
        "kkd_2 = 28\n",
        "kkd_3 = 25\n",
        "kkd_4 = 45\n",
        "kkd_5 = 29\n",
        "kkd_6 = 24\n",
        "kkd_7 = 26\n",
        "kkd_8 = 20\n",
        "kkd_9 = 30\n",
        "kkd_10 = 18\n",
        "kkd_11 = 59\n",
        "\n",
        "hasil_d = d1 + d2  + d3 + d4 + d5 + d6 + d7 + d8 + d9 + d10 + d11\n",
        "hasil_kkd = kkd_1 + kkd_2 + kkd_3 + kkd_4 + kkd_5 + kkd_6 +kkd_7 + kkd_8 + kkd_9 + kkd_10 + kkd_11 \n",
        "print(\"maka hasil rw daerah d adalah : \" +str(hasil_d))\n",
        "print(\"maka hasil kk daerah d adalah : \" +str(hasil_kkd))\n",
        "\n",
        "e1 = 11\n",
        "e2 = 5\n",
        "e3 = 8\n",
        "e4 = 11\n",
        "e5 = 16\n",
        "e6 = 12\n",
        "e7 = 4\n",
        "e8 = 10\n",
        "e9 = 12\n",
        "e10 = 6\n",
        "e11 = 10\n",
        "\n",
        "kke_1 = 36\n",
        "kke_2 = 27\n",
        "kke_3 = 26\n",
        "kke_4 = 18\n",
        "kke_5 = 29\n",
        "kke_6 = 41\n",
        "kke_7 = 17\n",
        "kke_8 = 28\n",
        "kke_9 = 55\n",
        "kke_10 = 40\n",
        "kke_11 = 47\n",
        "\n",
        "hasil_e = e1 + e2  + e3 + e4 + e5 + e6 + e7 + e8 + e9 + e10 + e11\n",
        "hasil_kke = kke_1 + kke_2 + kke_3 + kke_4 + kke_5 + kke_6 +kke_7 + kke_8 + kke_9 + kke_10 +kke_11\n",
        "print(\"maka hasil rw daerah e adalah : \" +str(hasil_e))\n",
        "print(\"maka hasil kk daerah e adalah : \" +str(hasil_kke))\n",
        "\n",
        "print()\n",
        "fig = plt.figure()\n",
        "ax = fig.add_axes([0, 0, 1, 1,])\n",
        "jurusan = ['A', 'B', 'C','D', 'E']\n",
        "siswa = [73,80,32,108,105]\n",
        "c = ['blue','cyan','black']\n",
        "plt.title(\"Jumlah grafik bar di setiap rw\")\n",
        "plt.bar(jurusan, siswa, color = c)\n",
        "plt.show()\n",
        "\n",
        "print()\n",
        "fig = plt.figure()\n",
        "ax = fig.add_axes([0,0,1,1])\n",
        "ax.axis('equal')\n",
        "jurusan = ['A', 'B', 'C','D', 'E']\n",
        "siswa = [73,80,32,103,105]\n",
        "ax.pie(siswa,labels=jurusan,autopct='%1.2f%%')\n",
        "plt.title(\"Jumlah grafik buleud di setiap rw\")\n",
        "plt.show()\n",
        "\n",
        "print()\n",
        "fig = plt.figure()\n",
        "ax = fig.add_axes([0, 0, 1, 1,])\n",
        "jurusan = ['A', 'B', 'C','D', 'E']\n",
        "siswa = [235,277,144,346,364]\n",
        "c = ['blue','cyan','black']\n",
        "plt.title(\"Jumlah di setiap kk adalah\")\n",
        "plt.bar(jurusan, siswa, color = c)\n",
        "plt.show()\n",
        "print()\n",
        "\n",
        "print()\n",
        "fig = plt.figure()\n",
        "ax = fig.add_axes([0,0,1,1])\n",
        "ax.axis('equal')\n",
        "jurusan = ['A', 'B', 'C','D', 'E']\n",
        "siswa = [235,277,144,346,364]\n",
        "ax.pie(siswa,labels=jurusan,autopct='%1.2f%%')\n",
        "plt.title(\"Jumlah di setiap kk adalah\")\n",
        "plt.show()\n",
        "print(\"\")\n",
        "print(\"     =====Soal 2=====\")\n",
        "print()\n",
        "\n",
        "hasilu_50 = 51.6 + 54.6 + 57.6 + 55.8 + 56.8 + 59.4 + 51.5 + 54.9 + 50.8 + 52.6\n",
        "hasilu_40 = 42.9 + 41.5 + 45.7 + 41.8 + 42.9 + 40.5 + 41.8 + 46.8 + 48.9 + 42.9 + 45.4 + 40.8\n",
        "hasilu_30 = 36.5 + 32.6 + 36.4 + 33.5 + 34.9 + 32.5 + 38.5 + 35.7 + 37.4 + 35.7 + 31.9 + 35.8 + 35.8 + 36.8 + 33.8\n",
        "hasilu_20 = 28.9 + 27.5 + 29.5 + 27.9 + 25.7 + 24.9 + 29.8 + 25.6 + 29.6 + 24.9 + 25.8 + 28.6 + 24.9\n",
        "\n",
        "print(\"maka hasil di umur 50 adalah : \" +str(hasilu_50))\n",
        "print(\"maka hasil di umur 40 adalah : \" +str(hasilu_40))\n",
        "print(\"maka hasil di umur 30 adalah : \" +str(hasilu_30))\n",
        "print(\"maka hasil di umur 20 adalah : \" +str(hasilu_20))\n",
        "\n",
        "print()\n",
        "fig = plt.figure()\n",
        "ax = fig.add_axes([0, 0, 1, 1,])\n",
        "jurusan = ['U50', 'U40', 'U30','U20']\n",
        "siswa = [545,521.9,527.8,353.6]\n",
        "c = ['blue','cyan','black']\n",
        "plt.title(\"Jumlah di setiap kk adalah\")\n",
        "plt.bar(jurusan, siswa, color = c)\n",
        "plt.show()\n",
        "print()\n",
        "\n",
        "print()\n",
        "fig = plt.figure()\n",
        "ax = fig.add_axes([0,0,1,1])\n",
        "ax.axis('equal')\n",
        "jurusan = ['U50', 'U40', 'U30','U20']\n",
        "siswa = [235,521.9,527.8,353.6]\n",
        "ax.pie(siswa,labels=jurusan,autopct='%1.2f%%')\n",
        "plt.title(\"Jumlah di setiap kk adalah\")\n",
        "plt.show()\n",
        "print(\"\")\n",
        "print(\"     =====Soal 3=====\")\n",
        "print()\n",
        "\n",
        "hasile_1 = 5 + 4 + 9 + 4 + 10 + 8 + 10 + 8 + 5 +4 + 6 +7 +8 +4 +7 +9 +4 +2 +3 + 10 + 9 +5 + 6 + 3 +9 +5 +4 + 10\n",
        "hasile_2 = 12 + 15 + 18 + 11 + 14 + 13 + 11 + 14 + 16 + 16 + 14 + 12 + 18 + 20 + 15 + 13 + 15 + 12 + 12 + 19 + 17 + 11\n",
        "hasile_3 = 600000 + 1200000 + 800000 + 1500000 + 1200000 + 1500000 + 1000000 + 800000 + 1000000 + 800000 + 1500000 + 800000 + 600000 +600000 + 800000 + 600000 + 1200000 + 1000000 + 1200000 + 1000000 + 1200000 + 1200000 + 800000 + 1500000 + 1200000 + 1500000 + 1000000 + 600000\n",
        "hasile_4 = 1200000 + 1000000 + 600000 + 800000 + 800000 + 600000 + 600000 + 800000 + 1500000 + 1500000 + 1000000 + 1200000 + 1500000 + 1200000 + 1000000 + 600000 + 800000 + 800000 + 600000 + 1200000 + 1000000 + 800000\n",
        "\n",
        "print(\"maka hasil dari yang kurang dari 10 RW adalah : \" +str(hasile_1))\n",
        "print(\"maka hasil dari yang lebih dari 10 RW adalah : \" +str(hasile_2))\n",
        "print(\"maka hasil dari yang kurang dari 10 RW adalah : \" +str(hasile_3))\n",
        "print(\"maka hasil dari yang kurang dari 10 RW adalah : \" +str(hasile_4))\n",
        "print(\"\")\n",
        "pajak1 = 0.02 * 5 * 600000\n",
        "print(\"pajak 600000/5 : \" +str(pajak1))\n",
        "pajak2 = 0.03 * 6 * 800000\n",
        "print(\"pajak 800000/5 : \" +str(pajak2))\n",
        "pajak3 = 0.04 * 5 * 1000000\n",
        "print(\"pajak 1000000/5 : \" +str(pajak3))\n",
        "pajak4 = 0.05 * 7 * 1200000\n",
        "print(\"pajak 1200000/5 : \" +str(pajak4))\n",
        "pajak5 = 0.07 * 5 * 1500000\n",
        "print(\"pajak 1500000/5 : \" +str(pajak5))\n",
        "\n",
        "hasilpajak1 = pajak1 + pajak2 + pajak3 + pajak4 + pajak5\n",
        "print(\"maka total dengan pajak adalah : \" +str(hasilpajak1))\n",
        "ha = hasile_3 - hasilpajak1\n",
        "print(\"nominal bantuan <10 dengan pajak adalah : \" +str(ha))\n",
        "print(\"\")\n",
        "pajaka1 = 0.02 * (5 * 600000)\n",
        "print(\"pajak 600000/5 : \" +str(pajaka1))\n",
        "pajaka2 = 0.03 * (6 * 800000)\n",
        "print(\"pajak 800000/5 : \" +str(pajaka2))\n",
        "pajaka3 = 0.04 * (4 * 1000000)\n",
        "print(\"pajak 1000000/5 : \" +str(pajaka3))\n",
        "pajaka4 = 0.05 * (4 * 1200000)\n",
        "print(\"pajak 1200000/5 : \" +str(pajaka4))\n",
        "pajaka5 = 0.07 * (3 * 1500000)\n",
        "print(\"pajak 1500000/5 : \" +str(pajaka5))\n",
        "\n",
        "hasilpajaka1 = pajaka1 + pajaka2 + pajaka3 + pajaka4 + pajaka5\n",
        "print(\"maka total dengan pajak adalah : \" +str(hasilpajaka1))\n",
        "ha1 = hasile_4 - hasilpajaka1\n",
        "print(\"nominal bantuan <10 dengan pajak adalah : \" +str(ha1))\n",
        "\n",
        "print(\"\")\n",
        "print(\"     =====Soal 4=====\")\n",
        "print()\n",
        "\n",
        "\n",
        "jbu_50 = 800000 + 1500000 + 1000000 + 600000 + 1200000 + 600000 + 1500000 + 1200000 + 1200000 + 1200000\n",
        "jbu_40 = 1200000 + 1200000 + 1200000 + 600000 + 800000 + 800000 + 1000000 + 1200000 + 1000000 + 1200000 + 1000000 + 800000 \n",
        "jbu_30 = 600000 + 1500000 + 800000 + 1000000 + 1500000 + 600000 + 1500000 + 800000 + 600000 + 800000 + 800000 + 1500000 + 1200000 + 1500000 +600000\n",
        "jbu_20 = 1000000 + 600000 + 800000 + 800000 + 800000 + 600000 + 1500000 + 1000000 + 1200000 + 1000000 + 800000 + 600000  + 1000000 \n",
        "\n",
        "print(\"maka dalam usia 50 adalah : \" +str(jbu_50))\n",
        "print(\"maka dalam usia 40 adalah : \" +str(jbu_40))\n",
        "print(\"maka dalam usia 30 adalah : \" +str(jbu_30))\n",
        "print(\"maka dalam usia 20 adalah : \" +str(jbu_20))\n",
        "print()\n",
        "fig = plt.figure()\n",
        "ax = fig.add_axes([0, 0, 1, 1,])\n",
        "jurusan = ['U50', 'U40', 'U30','U20']\n",
        "siswa = [10800000,12000000,15300000,11700000]\n",
        "c = ['blue','cyan','black']\n",
        "plt.title(\"Jumlah di setiap kk adalah\")\n",
        "plt.bar(jurusan, siswa, color = c)\n",
        "plt.show()\n",
        "print()\n",
        "\n",
        "print()\n",
        "fig = plt.figure()\n",
        "ax = fig.add_axes([0,0,1,1])\n",
        "ax.axis('equal')\n",
        "jurusan = ['U50', 'U40', 'U30','U20']\n",
        "siswa = [10800000,12000000,15300000,11700000]\n",
        "ax.pie(siswa,labels=jurusan,autopct='%1.2f%%')\n",
        "plt.title(\"Jumlah di setiap kk adalah\")\n",
        "plt.show()\n",
        "print(\"\")\n",
        "\n",
        "print(\"     ====soal 5 ====\")\n",
        "\n",
        "hn = 600000 + 1200000 + 800000 + 1200000 + 1500000 + 1000000 + 600000 + 800000 + 1200000 + 1500000 + 800000 + 600000 + 1000000 + 800000 + 1000000 + 800000 + 1500000 + 800000 + 600000 + 600000 + 800000 + 1500000 + 600000 + 1500000 + 1000000 + 800000 + 1200000 +600000 + 1500000 + 1200000 + 1000000 + 600000 + 1200000 + 1000000 + 1200000 + 800000 + 1000000 + 1200000 + 800000 + 1200000 + 800000 + 1500000 + 600000 + 1200000 + 1000000 + 1200000 + 800000 + 1500000 + 1000000 + 600000\n",
        "pja = 0.02 * (10 * 600000)\n",
        "pjb = 0.03 * (12 * 800000)\n",
        "pjc = 0.04 * (9 * 1000000)\n",
        "pjd = 0.05 * (10 * 1200000)\n",
        "pje = 0.07 * (8 * 1500000)\n",
        "hasilp = pja + pjb + pjc  +pjd + pje\n",
        "huh = hn - hasilp\n",
        "\n",
        "print(\"maka hasil nominal keseluruhan tanpa pajak : \" +str(hn))\n",
        "print(\"maka hasil nominal keseluruhan dalam pajak : \" +str(huh))"
      ],
      "metadata": {
        "colab": {
          "base_uri": "https://localhost:8080/",
          "height": 1000
        },
        "id": "aM33-C3tu_jW",
        "outputId": "16c5e373-9e8f-4b75-b892-3ee696216949"
      },
      "execution_count": 54,
      "outputs": [
        {
          "output_type": "stream",
          "name": "stdout",
          "text": [
            "     ===== Soal 1=====\n",
            "maka hasil rw daerah a adalah : 73\n",
            "maka hasil kk daerah a adalah : 235\n",
            "maka hasil rw daerah b adalah : 80\n",
            "maka hasil kk daerah b adalah : 275\n",
            "maka hasil rw daerah c adalah : 32\n",
            "maka hasil kk daerah c adalah : 144\n",
            "maka hasil rw daerah d adalah : 108\n",
            "maka hasil kk daerah d adalah : 346\n",
            "maka hasil rw daerah e adalah : 105\n",
            "maka hasil kk daerah e adalah : 364\n",
            "\n"
          ]
        },
        {
          "output_type": "display_data",
          "data": {
            "text/plain": [
              "<Figure size 432x288 with 1 Axes>"
            ],
            "image/png": "[encoded data removed]"
          },
          "metadata": {
            "needs_background": "light"
          }
        },
        {
          "output_type": "stream",
          "name": "stdout",
          "text": [
            "\n"
          ]
        },
        {
          "output_type": "display_data",
          "data": {
            "text/plain": [
              "<Figure size 432x288 with 1 Axes>"
            ],
            "image/png": "[encoded data removed]"
          },
          "metadata": {}
        },
        {
          "output_type": "stream",
          "name": "stdout",
          "text": [
            "\n"
          ]
        },
        {
          "output_type": "display_data",
          "data": {
            "text/plain": [
              "<Figure size 432x288 with 1 Axes>"
            ],
            "image/png": "[encoded data removed]"
          },
          "metadata": {
            "needs_background": "light"
          }
        },
        {
          "output_type": "stream",
          "name": "stdout",
          "text": [
            "\n",
            "\n"
          ]
        },
        {
          "output_type": "display_data",
          "data": {
            "text/plain": [
              "<Figure size 432x288 with 1 Axes>"
            ],
            "image/png": "[encoded data removed]"
          },
          "metadata": {}
        },
        {
          "output_type": "stream",
          "name": "stdout",
          "text": [
            "\n",
            "     =====Soal 2=====\n",
            "\n",
            "maka hasil di umur 50 adalah : 545.6\n",
            "maka hasil di umur 40 adalah : 521.9\n",
            "maka hasil di umur 30 adalah : 527.8\n",
            "maka hasil di umur 20 adalah : 353.6\n",
            "\n"
          ]
        },
        {
          "output_type": "display_data",
          "data": {
            "text/plain": [
              "<Figure size 432x288 with 1 Axes>"
            ],
            "image/png": "[encoded data removed]"
          },
          "metadata": {
            "needs_background": "light"
          }
        },
        {
          "output_type": "stream",
          "name": "stdout",
          "text": [
            "\n",
            "\n"
          ]
        },
        {
          "output_type": "display_data",
          "data": {
            "text/plain": [
              "<Figure size 432x288 with 1 Axes>"
            ],
            "image/png": "[encoded data removed]"
          },
          "metadata": {}
        },
        {
          "output_type": "stream",
          "name": "stdout",
          "text": [
            "\n",
            "     =====Soal 3=====\n",
            "\n",
            "maka hasil dari yang kurang dari 10 RW adalah : 178\n",
            "maka hasil dari yang lebih dari 10 RW adalah : 318\n",
            "maka hasil dari yang kurang dari 10 RW adalah : 28700000\n",
            "maka hasil dari yang kurang dari 10 RW adalah : 21100000\n",
            "\n",
            "pajak 600000/5 : 60000.0\n",
            "pajak 800000/5 : 144000.0\n",
            "pajak 1000000/5 : 200000.0\n",
            "pajak 1200000/5 : 420000.00000000006\n",
            "pajak 1500000/5 : 525000.0\n",
            "maka total dengan pajak adalah : 1349000.0\n",
            "nominal bantuan <10 dengan pajak adalah : 27351000.0\n",
            "\n",
            "pajak 600000/5 : 60000.0\n",
            "pajak 800000/5 : 144000.0\n",
            "pajak 1000000/5 : 160000.0\n",
            "pajak 1200000/5 : 240000.0\n",
            "pajak 1500000/5 : 315000.00000000006\n",
            "maka total dengan pajak adalah : 919000.0\n",
            "nominal bantuan <10 dengan pajak adalah : 20181000.0\n",
            "\n",
            "     =====Soal 4=====\n",
            "\n",
            "maka dalam usia 50 adalah : 10800000\n",
            "maka dalam usia 40 adalah : 12000000\n",
            "maka dalam usia 30 adalah : 15300000\n",
            "maka dalam usia 20 adalah : 11700000\n",
            "\n"
          ]
        },
        {
          "output_type": "display_data",
          "data": {
            "text/plain": [
              "<Figure size 432x288 with 1 Axes>"
            ],
            "image/png": "[encoded data removed]"
          },
          "metadata": {
            "needs_background": "light"
          }
        },
        {
          "output_type": "stream",
          "name": "stdout",
          "text": [
            "\n",
            "\n"
          ]
        },
        {
          "output_type": "display_data",
          "data": {
            "text/plain": [
              "<Figure size 432x288 with 1 Axes>"
            ],
            "image/png": "[encoded data removed]"
          },
          "metadata": {}
        },
        {
          "output_type": "stream",
          "name": "stdout",
          "text": [
            "\n",
            "     ====soal 5 ====\n",
            "maka hasil nominal keseluruhan tanpa pajak : 49800000\n",
            "maka hasil nominal keseluruhan dalam pajak : 47592000.0\n"
          ]
        }
      ]
    },
    {
      "cell_type": "code",
      "source": [
        "path = '/content/drive/MyDrive/CSV/soal6 - Sheet1.csv'\n",
        "df = pd.read_csv(path)\n",
        "df.describe()"
      ],
      "metadata": {
        "colab": {
          "base_uri": "https://localhost:8080/",
          "height": 300
        },
        "id": "BQ2gQfrTqreY",
        "outputId": "ddbc87ca-8956-4f03-e875-9e4281b0f90d"
      },
      "execution_count": 27,
      "outputs": [
        {
          "output_type": "execute_result",
          "data": {
            "text/plain": [
              "             No.  Jumlah RW  Jumlah Kepala Keluarga  Rata2 Usia  Keluarga\n",
              "count  28.000000  28.000000               28.000000             28.000000\n",
              "mean   27.142857   9.821429               31.071429             40.939286\n",
              "std    14.733973   5.584725               11.944094             10.163673\n",
              "min     2.000000   2.000000               15.000000             24.900000\n",
              "25%    14.500000   4.750000               23.000000             33.275000\n",
              "50%    29.500000   9.500000               28.500000             41.650000\n",
              "75%    38.500000  15.000000               39.500000             49.375000\n",
              "max    49.000000  20.000000               59.000000             57.600000"
            ],
            "text/html": [
              "\n",
              "  <div id=\"df-d5c25264-a5c0-435b-b18e-f14da6b6db92\">\n",
              "    <div class=\"colab-df-container\">\n",
              "      <div>\n",
              "<style scoped>\n",
              "    .dataframe tbody tr th:only-of-type {\n",
              "        vertical-align: middle;\n",
              "    }\n",
              "\n",
              "    .dataframe tbody tr th {\n",
              "        vertical-align: top;\n",
              "    }\n",
              "\n",
              "    .dataframe thead th {\n",
              "        text-align: right;\n",
              "    }\n",
              "</style>\n",
              "<table border=\"1\" class=\"dataframe\">\n",
              "  <thead>\n",
              "    <tr style=\"text-align: right;\">\n",
              "      <th></th>\n",
              "      <th>No.</th>\n",
              "      <th>Jumlah RW</th>\n",
              "      <th>Jumlah Kepala Keluarga</th>\n",
              "      <th>Rata2 Usia  Keluarga</th>\n",
              "    </tr>\n",
              "  </thead>\n",
              "  <tbody>\n",
              "    <tr>\n",
              "      <th>count</th>\n",
              "      <td>28.000000</td>\n",
              "      <td>28.000000</td>\n",
              "      <td>28.000000</td>\n",
              "      <td>28.000000</td>\n",
              "    </tr>\n",
              "    <tr>\n",
              "      <th>mean</th>\n",
              "      <td>27.142857</td>\n",
              "      <td>9.821429</td>\n",
              "      <td>31.071429</td>\n",
              "      <td>40.939286</td>\n",
              "    </tr>\n",
              "    <tr>\n",
              "      <th>std</th>\n",
              "      <td>14.733973</td>\n",
              "      <td>5.584725</td>\n",
              "      <td>11.944094</td>\n",
              "      <td>10.163673</td>\n",
              "    </tr>\n",
              "    <tr>\n",
              "      <th>min</th>\n",
              "      <td>2.000000</td>\n",
              "      <td>2.000000</td>\n",
              "      <td>15.000000</td>\n",
              "      <td>24.900000</td>\n",
              "    </tr>\n",
              "    <tr>\n",
              "      <th>25%</th>\n",
              "      <td>14.500000</td>\n",
              "      <td>4.750000</td>\n",
              "      <td>23.000000</td>\n",
              "      <td>33.275000</td>\n",
              "    </tr>\n",
              "    <tr>\n",
              "      <th>50%</th>\n",
              "      <td>29.500000</td>\n",
              "      <td>9.500000</td>\n",
              "      <td>28.500000</td>\n",
              "      <td>41.650000</td>\n",
              "    </tr>\n",
              "    <tr>\n",
              "      <th>75%</th>\n",
              "      <td>38.500000</td>\n",
              "      <td>15.000000</td>\n",
              "      <td>39.500000</td>\n",
              "      <td>49.375000</td>\n",
              "    </tr>\n",
              "    <tr>\n",
              "      <th>max</th>\n",
              "      <td>49.000000</td>\n",
              "      <td>20.000000</td>\n",
              "      <td>59.000000</td>\n",
              "      <td>57.600000</td>\n",
              "    </tr>\n",
              "  </tbody>\n",
              "</table>\n",
              "</div>\n",
              "      <button class=\"colab-df-convert\" onclick=\"convertToInteractive('df-d5c25264-a5c0-435b-b18e-f14da6b6db92')\"\n",
              "              title=\"Convert this dataframe to an interactive table.\"\n",
              "              style=\"display:none;\">\n",
              "        \n",
              "  <svg xmlns=\"http://www.w3.org/2000/svg\" height=\"24px\"viewBox=\"0 0 24 24\"\n",
              "       width=\"24px\">\n",
              "    <path d=\"M0 0h24v24H0V0z\" fill=\"none\"/>\n",
              "    <path d=\"M18.56 5.44l.94 2.06.94-2.06 2.06-.94-2.06-.94-.94-2.06-.94 2.06-2.06.94zm-11 1L8.5 8.5l.94-2.06 2.06-.94-2.06-.94L8.5 2.5l-.94 2.06-2.06.94zm10 10l.94 2.06.94-2.06 2.06-.94-2.06-.94-.94-2.06-.94 2.06-2.06.94z\"/><path d=\"M17.41 7.96l-1.37-1.37c-.4-.4-.92-.59-1.43-.59-.52 0-1.04.2-1.43.59L10.3 9.45l-7.72 7.72c-.78.78-.78 2.05 0 2.83L4 21.41c.39.39.9.59 1.41.59.51 0 1.02-.2 1.41-.59l7.78-7.78 2.81-2.81c.8-.78.8-2.07 0-2.86zM5.41 20L4 18.59l7.72-7.72 1.47 1.35L5.41 20z\"/>\n",
              "  </svg>\n",
              "      </button>\n",
              "      \n",
              "  <style>\n",
              "    .colab-df-container {\n",
              "      display:flex;\n",
              "      flex-wrap:wrap;\n",
              "      gap: 12px;\n",
              "    }\n",
              "\n",
              "    .colab-df-convert {\n",
              "      background-color: #E8F0FE;\n",
              "      border: none;\n",
              "      border-radius: 50%;\n",
              "      cursor: pointer;\n",
              "      display: none;\n",
              "      fill: #1967D2;\n",
              "      height: 32px;\n",
              "      padding: 0 0 0 0;\n",
              "      width: 32px;\n",
              "    }\n",
              "\n",
              "    .colab-df-convert:hover {\n",
              "      background-color: #E2EBFA;\n",
              "      box-shadow: 0px 1px 2px rgba(60, 64, 67, 0.3), 0px 1px 3px 1px rgba(60, 64, 67, 0.15);\n",
              "      fill: #174EA6;\n",
              "    }\n",
              "\n",
              "    [theme=dark] .colab-df-convert {\n",
              "      background-color: #3B4455;\n",
              "      fill: #D2E3FC;\n",
              "    }\n",
              "\n",
              "    [theme=dark] .colab-df-convert:hover {\n",
              "      background-color: #434B5C;\n",
              "      box-shadow: 0px 1px 3px 1px rgba(0, 0, 0, 0.15);\n",
              "      filter: drop-shadow(0px 1px 2px rgba(0, 0, 0, 0.3));\n",
              "      fill: #FFFFFF;\n",
              "    }\n",
              "  </style>\n",
              "\n",
              "      <script>\n",
              "        const buttonEl =\n",
              "          document.querySelector('#df-d5c25264-a5c0-435b-b18e-f14da6b6db92 button.colab-df-convert');\n",
              "        buttonEl.style.display =\n",
              "          google.colab.kernel.accessAllowed ? 'block' : 'none';\n",
              "\n",
              "        async function convertToInteractive(key) {\n",
              "          const element = document.querySelector('#df-d5c25264-a5c0-435b-b18e-f14da6b6db92');\n",
              "          const dataTable =\n",
              "            await google.colab.kernel.invokeFunction('convertToInteractive',\n",
              "                                                     [key], {});\n",
              "          if (!dataTable) return;\n",
              "\n",
              "          const docLinkHtml = 'Like what you see? Visit the ' +\n",
              "            '<a target=\"_blank\" href=https://colab.research.google.com/notebooks/data_table.ipynb>data table notebook</a>'\n",
              "            + ' to learn more about interactive tables.';\n",
              "          element.innerHTML = '';\n",
              "          dataTable['output_type'] = 'display_data';\n",
              "          await google.colab.output.renderOutput(dataTable, element);\n",
              "          const docLink = document.createElement('div');\n",
              "          docLink.innerHTML = docLinkHtml;\n",
              "          element.appendChild(docLink);\n",
              "        }\n",
              "      </script>\n",
              "    </div>\n",
              "  </div>\n",
              "  "
            ]
          },
          "metadata": {},
          "execution_count": 27
        }
      ]
    },
    {
      "cell_type": "code",
      "source": [
        "df.info()"
      ],
      "metadata": {
        "colab": {
          "base_uri": "https://localhost:8080/"
        },
        "id": "1vGDTo8urbo7",
        "outputId": "87fc82fb-0823-4851-ceed-15e45fcd69e1"
      },
      "execution_count": 29,
      "outputs": [
        {
          "output_type": "stream",
          "name": "stdout",
          "text": [
            "<class 'pandas.core.frame.DataFrame'>\n",
            "RangeIndex: 28 entries, 0 to 27\n",
            "Data columns (total 6 columns):\n",
            " #   Column                  Non-Null Count  Dtype  \n",
            "---  ------                  --------------  -----  \n",
            " 0   No.                     28 non-null     int64  \n",
            " 1   Daerah                  28 non-null     object \n",
            " 2   Jumlah RW               28 non-null     int64  \n",
            " 3   Jumlah Kepala Keluarga  28 non-null     int64  \n",
            " 4   Rata2 Usia  Keluarga    28 non-null     float64\n",
            " 5   Nominal Bantuan         28 non-null     object \n",
            "dtypes: float64(1), int64(3), object(2)\n",
            "memory usage: 1.4+ KB\n"
          ]
        }
      ]
    },
    {
      "cell_type": "code",
      "source": [
        "df"
      ],
      "metadata": {
        "colab": {
          "base_uri": "https://localhost:8080/",
          "height": 927
        },
        "id": "tq1f18CLrfZC",
        "outputId": "cb8c7e9a-7950-4518-8fe4-6a7ce8e3a793"
      },
      "execution_count": 30,
      "outputs": [
        {
          "output_type": "execute_result",
          "data": {
            "text/plain": [
              "    No. Daerah  Jumlah RW  Jumlah Kepala Keluarga  Rata2 Usia  Keluarga  \\\n",
              "0     2      B          4                      18                  42.9   \n",
              "1     4      D         12                      42                  41.5   \n",
              "2     5      B          4                      50                  32.6   \n",
              "3     6      F         15                      16                  28.9   \n",
              "4     9      F         10                      28                  45.7   \n",
              "5    10      A          8                      52                  54.6   \n",
              "6    13      D         10                      25                  33.5   \n",
              "7    15      E          5                      27                  57.6   \n",
              "8    17      D          6                      45                  34.9   \n",
              "9    22      E         16                      29                  38.5   \n",
              "10   24      D         16                      29                  29.8   \n",
              "11   25      A         14                      16                  41.8   \n",
              "12   27      E         12                      41                  56.8   \n",
              "13   29      B         18                      34                  51.5   \n",
              "14   30      D         20                      24                  46.8   \n",
              "15   31      B         15                      46                  25.6   \n",
              "16   33      E          4                      17                  29.6   \n",
              "17   34      D          2                      26                  48.9   \n",
              "18   35      A          3                      39                  54.9   \n",
              "19   37      E         10                      28                  24.9   \n",
              "20   38      F          9                      34                  42.9   \n",
              "21   40      D          5                      59                  50.8   \n",
              "22   42      D          3                      20                  35.8   \n",
              "23   44      A         19                      15                  52.6   \n",
              "24   45      A         17                      35                  45.4   \n",
              "25   46      B          9                      28                  35.8   \n",
              "26   48      D          5                      18                  36.8   \n",
              "27   49      F          4                      29                  24.9   \n",
              "\n",
              "   Nominal Bantuan  \n",
              "0        1.200.000  \n",
              "1        1.200.000  \n",
              "2        1.500.000  \n",
              "3        1.000.000  \n",
              "4        1.200.000  \n",
              "5        1.500.000  \n",
              "6        1.000.000  \n",
              "7        1.000.000  \n",
              "8        1.500.000  \n",
              "9        1.500.000  \n",
              "10       1.500.000  \n",
              "11       1.000.000  \n",
              "12       1.200.000  \n",
              "13       1.500.000  \n",
              "14       1.200.000  \n",
              "15       1.000.000  \n",
              "16       1.200.000  \n",
              "17       1.000.000  \n",
              "18       1.200.000  \n",
              "19       1.000.000  \n",
              "20       1.200.000  \n",
              "21       1.200.000  \n",
              "22       1.500.000  \n",
              "23       1.200.000  \n",
              "24       1.000.000  \n",
              "25       1.200.000  \n",
              "26       1.500.000  \n",
              "27       1.000.000  "
            ],
            "text/html": [
              "\n",
              "  <div id=\"df-54222c2c-3c98-40f4-a52b-b886069aaf13\">\n",
              "    <div class=\"colab-df-container\">\n",
              "      <div>\n",
              "<style scoped>\n",
              "    .dataframe tbody tr th:only-of-type {\n",
              "        vertical-align: middle;\n",
              "    }\n",
              "\n",
              "    .dataframe tbody tr th {\n",
              "        vertical-align: top;\n",
              "    }\n",
              "\n",
              "    .dataframe thead th {\n",
              "        text-align: right;\n",
              "    }\n",
              "</style>\n",
              "<table border=\"1\" class=\"dataframe\">\n",
              "  <thead>\n",
              "    <tr style=\"text-align: right;\">\n",
              "      <th></th>\n",
              "      <th>No.</th>\n",
              "      <th>Daerah</th>\n",
              "      <th>Jumlah RW</th>\n",
              "      <th>Jumlah Kepala Keluarga</th>\n",
              "      <th>Rata2 Usia  Keluarga</th>\n",
              "      <th>Nominal Bantuan</th>\n",
              "    </tr>\n",
              "  </thead>\n",
              "  <tbody>\n",
              "    <tr>\n",
              "      <th>0</th>\n",
              "      <td>2</td>\n",
              "      <td>B</td>\n",
              "      <td>4</td>\n",
              "      <td>18</td>\n",
              "      <td>42.9</td>\n",
              "      <td>1.200.000</td>\n",
              "    </tr>\n",
              "    <tr>\n",
              "      <th>1</th>\n",
              "      <td>4</td>\n",
              "      <td>D</td>\n",
              "      <td>12</td>\n",
              "      <td>42</td>\n",
              "      <td>41.5</td>\n",
              "      <td>1.200.000</td>\n",
              "    </tr>\n",
              "    <tr>\n",
              "      <th>2</th>\n",
              "      <td>5</td>\n",
              "      <td>B</td>\n",
              "      <td>4</td>\n",
              "      <td>50</td>\n",
              "      <td>32.6</td>\n",
              "      <td>1.500.000</td>\n",
              "    </tr>\n",
              "    <tr>\n",
              "      <th>3</th>\n",
              "      <td>6</td>\n",
              "      <td>F</td>\n",
              "      <td>15</td>\n",
              "      <td>16</td>\n",
              "      <td>28.9</td>\n",
              "      <td>1.000.000</td>\n",
              "    </tr>\n",
              "    <tr>\n",
              "      <th>4</th>\n",
              "      <td>9</td>\n",
              "      <td>F</td>\n",
              "      <td>10</td>\n",
              "      <td>28</td>\n",
              "      <td>45.7</td>\n",
              "      <td>1.200.000</td>\n",
              "    </tr>\n",
              "    <tr>\n",
              "      <th>5</th>\n",
              "      <td>10</td>\n",
              "      <td>A</td>\n",
              "      <td>8</td>\n",
              "      <td>52</td>\n",
              "      <td>54.6</td>\n",
              "      <td>1.500.000</td>\n",
              "    </tr>\n",
              "    <tr>\n",
              "      <th>6</th>\n",
              "      <td>13</td>\n",
              "      <td>D</td>\n",
              "      <td>10</td>\n",
              "      <td>25</td>\n",
              "      <td>33.5</td>\n",
              "      <td>1.000.000</td>\n",
              "    </tr>\n",
              "    <tr>\n",
              "      <th>7</th>\n",
              "      <td>15</td>\n",
              "      <td>E</td>\n",
              "      <td>5</td>\n",
              "      <td>27</td>\n",
              "      <td>57.6</td>\n",
              "      <td>1.000.000</td>\n",
              "    </tr>\n",
              "    <tr>\n",
              "      <th>8</th>\n",
              "      <td>17</td>\n",
              "      <td>D</td>\n",
              "      <td>6</td>\n",
              "      <td>45</td>\n",
              "      <td>34.9</td>\n",
              "      <td>1.500.000</td>\n",
              "    </tr>\n",
              "    <tr>\n",
              "      <th>9</th>\n",
              "      <td>22</td>\n",
              "      <td>E</td>\n",
              "      <td>16</td>\n",
              "      <td>29</td>\n",
              "      <td>38.5</td>\n",
              "      <td>1.500.000</td>\n",
              "    </tr>\n",
              "    <tr>\n",
              "      <th>10</th>\n",
              "      <td>24</td>\n",
              "      <td>D</td>\n",
              "      <td>16</td>\n",
              "      <td>29</td>\n",
              "      <td>29.8</td>\n",
              "      <td>1.500.000</td>\n",
              "    </tr>\n",
              "    <tr>\n",
              "      <th>11</th>\n",
              "      <td>25</td>\n",
              "      <td>A</td>\n",
              "      <td>14</td>\n",
              "      <td>16</td>\n",
              "      <td>41.8</td>\n",
              "      <td>1.000.000</td>\n",
              "    </tr>\n",
              "    <tr>\n",
              "      <th>12</th>\n",
              "      <td>27</td>\n",
              "      <td>E</td>\n",
              "      <td>12</td>\n",
              "      <td>41</td>\n",
              "      <td>56.8</td>\n",
              "      <td>1.200.000</td>\n",
              "    </tr>\n",
              "    <tr>\n",
              "      <th>13</th>\n",
              "      <td>29</td>\n",
              "      <td>B</td>\n",
              "      <td>18</td>\n",
              "      <td>34</td>\n",
              "      <td>51.5</td>\n",
              "      <td>1.500.000</td>\n",
              "    </tr>\n",
              "    <tr>\n",
              "      <th>14</th>\n",
              "      <td>30</td>\n",
              "      <td>D</td>\n",
              "      <td>20</td>\n",
              "      <td>24</td>\n",
              "      <td>46.8</td>\n",
              "      <td>1.200.000</td>\n",
              "    </tr>\n",
              "    <tr>\n",
              "      <th>15</th>\n",
              "      <td>31</td>\n",
              "      <td>B</td>\n",
              "      <td>15</td>\n",
              "      <td>46</td>\n",
              "      <td>25.6</td>\n",
              "      <td>1.000.000</td>\n",
              "    </tr>\n",
              "    <tr>\n",
              "      <th>16</th>\n",
              "      <td>33</td>\n",
              "      <td>E</td>\n",
              "      <td>4</td>\n",
              "      <td>17</td>\n",
              "      <td>29.6</td>\n",
              "      <td>1.200.000</td>\n",
              "    </tr>\n",
              "    <tr>\n",
              "      <th>17</th>\n",
              "      <td>34</td>\n",
              "      <td>D</td>\n",
              "      <td>2</td>\n",
              "      <td>26</td>\n",
              "      <td>48.9</td>\n",
              "      <td>1.000.000</td>\n",
              "    </tr>\n",
              "    <tr>\n",
              "      <th>18</th>\n",
              "      <td>35</td>\n",
              "      <td>A</td>\n",
              "      <td>3</td>\n",
              "      <td>39</td>\n",
              "      <td>54.9</td>\n",
              "      <td>1.200.000</td>\n",
              "    </tr>\n",
              "    <tr>\n",
              "      <th>19</th>\n",
              "      <td>37</td>\n",
              "      <td>E</td>\n",
              "      <td>10</td>\n",
              "      <td>28</td>\n",
              "      <td>24.9</td>\n",
              "      <td>1.000.000</td>\n",
              "    </tr>\n",
              "    <tr>\n",
              "      <th>20</th>\n",
              "      <td>38</td>\n",
              "      <td>F</td>\n",
              "      <td>9</td>\n",
              "      <td>34</td>\n",
              "      <td>42.9</td>\n",
              "      <td>1.200.000</td>\n",
              "    </tr>\n",
              "    <tr>\n",
              "      <th>21</th>\n",
              "      <td>40</td>\n",
              "      <td>D</td>\n",
              "      <td>5</td>\n",
              "      <td>59</td>\n",
              "      <td>50.8</td>\n",
              "      <td>1.200.000</td>\n",
              "    </tr>\n",
              "    <tr>\n",
              "      <th>22</th>\n",
              "      <td>42</td>\n",
              "      <td>D</td>\n",
              "      <td>3</td>\n",
              "      <td>20</td>\n",
              "      <td>35.8</td>\n",
              "      <td>1.500.000</td>\n",
              "    </tr>\n",
              "    <tr>\n",
              "      <th>23</th>\n",
              "      <td>44</td>\n",
              "      <td>A</td>\n",
              "      <td>19</td>\n",
              "      <td>15</td>\n",
              "      <td>52.6</td>\n",
              "      <td>1.200.000</td>\n",
              "    </tr>\n",
              "    <tr>\n",
              "      <th>24</th>\n",
              "      <td>45</td>\n",
              "      <td>A</td>\n",
              "      <td>17</td>\n",
              "      <td>35</td>\n",
              "      <td>45.4</td>\n",
              "      <td>1.000.000</td>\n",
              "    </tr>\n",
              "    <tr>\n",
              "      <th>25</th>\n",
              "      <td>46</td>\n",
              "      <td>B</td>\n",
              "      <td>9</td>\n",
              "      <td>28</td>\n",
              "      <td>35.8</td>\n",
              "      <td>1.200.000</td>\n",
              "    </tr>\n",
              "    <tr>\n",
              "      <th>26</th>\n",
              "      <td>48</td>\n",
              "      <td>D</td>\n",
              "      <td>5</td>\n",
              "      <td>18</td>\n",
              "      <td>36.8</td>\n",
              "      <td>1.500.000</td>\n",
              "    </tr>\n",
              "    <tr>\n",
              "      <th>27</th>\n",
              "      <td>49</td>\n",
              "      <td>F</td>\n",
              "      <td>4</td>\n",
              "      <td>29</td>\n",
              "      <td>24.9</td>\n",
              "      <td>1.000.000</td>\n",
              "    </tr>\n",
              "  </tbody>\n",
              "</table>\n",
              "</div>\n",
              "      <button class=\"colab-df-convert\" onclick=\"convertToInteractive('df-54222c2c-3c98-40f4-a52b-b886069aaf13')\"\n",
              "              title=\"Convert this dataframe to an interactive table.\"\n",
              "              style=\"display:none;\">\n",
              "        \n",
              "  <svg xmlns=\"http://www.w3.org/2000/svg\" height=\"24px\"viewBox=\"0 0 24 24\"\n",
              "       width=\"24px\">\n",
              "    <path d=\"M0 0h24v24H0V0z\" fill=\"none\"/>\n",
              "    <path d=\"M18.56 5.44l.94 2.06.94-2.06 2.06-.94-2.06-.94-.94-2.06-.94 2.06-2.06.94zm-11 1L8.5 8.5l.94-2.06 2.06-.94-2.06-.94L8.5 2.5l-.94 2.06-2.06.94zm10 10l.94 2.06.94-2.06 2.06-.94-2.06-.94-.94-2.06-.94 2.06-2.06.94z\"/><path d=\"M17.41 7.96l-1.37-1.37c-.4-.4-.92-.59-1.43-.59-.52 0-1.04.2-1.43.59L10.3 9.45l-7.72 7.72c-.78.78-.78 2.05 0 2.83L4 21.41c.39.39.9.59 1.41.59.51 0 1.02-.2 1.41-.59l7.78-7.78 2.81-2.81c.8-.78.8-2.07 0-2.86zM5.41 20L4 18.59l7.72-7.72 1.47 1.35L5.41 20z\"/>\n",
              "  </svg>\n",
              "      </button>\n",
              "      \n",
              "  <style>\n",
              "    .colab-df-container {\n",
              "      display:flex;\n",
              "      flex-wrap:wrap;\n",
              "      gap: 12px;\n",
              "    }\n",
              "\n",
              "    .colab-df-convert {\n",
              "      background-color: #E8F0FE;\n",
              "      border: none;\n",
              "      border-radius: 50%;\n",
              "      cursor: pointer;\n",
              "      display: none;\n",
              "      fill: #1967D2;\n",
              "      height: 32px;\n",
              "      padding: 0 0 0 0;\n",
              "      width: 32px;\n",
              "    }\n",
              "\n",
              "    .colab-df-convert:hover {\n",
              "      background-color: #E2EBFA;\n",
              "      box-shadow: 0px 1px 2px rgba(60, 64, 67, 0.3), 0px 1px 3px 1px rgba(60, 64, 67, 0.15);\n",
              "      fill: #174EA6;\n",
              "    }\n",
              "\n",
              "    [theme=dark] .colab-df-convert {\n",
              "      background-color: #3B4455;\n",
              "      fill: #D2E3FC;\n",
              "    }\n",
              "\n",
              "    [theme=dark] .colab-df-convert:hover {\n",
              "      background-color: #434B5C;\n",
              "      box-shadow: 0px 1px 3px 1px rgba(0, 0, 0, 0.15);\n",
              "      filter: drop-shadow(0px 1px 2px rgba(0, 0, 0, 0.3));\n",
              "      fill: #FFFFFF;\n",
              "    }\n",
              "  </style>\n",
              "\n",
              "      <script>\n",
              "        const buttonEl =\n",
              "          document.querySelector('#df-54222c2c-3c98-40f4-a52b-b886069aaf13 button.colab-df-convert');\n",
              "        buttonEl.style.display =\n",
              "          google.colab.kernel.accessAllowed ? 'block' : 'none';\n",
              "\n",
              "        async function convertToInteractive(key) {\n",
              "          const element = document.querySelector('#df-54222c2c-3c98-40f4-a52b-b886069aaf13');\n",
              "          const dataTable =\n",
              "            await google.colab.kernel.invokeFunction('convertToInteractive',\n",
              "                                                     [key], {});\n",
              "          if (!dataTable) return;\n",
              "\n",
              "          const docLinkHtml = 'Like what you see? Visit the ' +\n",
              "            '<a target=\"_blank\" href=https://colab.research.google.com/notebooks/data_table.ipynb>data table notebook</a>'\n",
              "            + ' to learn more about interactive tables.';\n",
              "          element.innerHTML = '';\n",
              "          dataTable['output_type'] = 'display_data';\n",
              "          await google.colab.output.renderOutput(dataTable, element);\n",
              "          const docLink = document.createElement('div');\n",
              "          docLink.innerHTML = docLinkHtml;\n",
              "          element.appendChild(docLink);\n",
              "        }\n",
              "      </script>\n",
              "    </div>\n",
              "  </div>\n",
              "  "
            ]
          },
          "metadata": {},
          "execution_count": 30
        }
      ]
    },
    {
      "cell_type": "code",
      "source": [
        "print(\"mean cuy\")\n",
        "df['Rata2 Usia  Keluarga'].sum()/15"
      ],
      "metadata": {
        "colab": {
          "base_uri": "https://localhost:8080/"
        },
        "id": "oKRsfl35itAF",
        "outputId": "42346211-5c4e-4072-fed1-90861bba0bc0"
      },
      "execution_count": 104,
      "outputs": [
        {
          "output_type": "stream",
          "name": "stdout",
          "text": [
            "mean cuy\n"
          ]
        },
        {
          "output_type": "execute_result",
          "data": {
            "text/plain": [
              "76.42"
            ]
          },
          "metadata": {},
          "execution_count": 104
        }
      ]
    },
    {
      "cell_type": "code",
      "source": [
        "print(\"total jumlah B\")\n",
        "df[df['Daerah']=='B']['Jumlah RW'].sum()"
      ],
      "metadata": {
        "colab": {
          "base_uri": "https://localhost:8080/"
        },
        "id": "Xs781k0frgLL",
        "outputId": "b8df6d33-9113-48b1-8aac-e0a940fafebc"
      },
      "execution_count": 74,
      "outputs": [
        {
          "output_type": "stream",
          "name": "stdout",
          "text": [
            "total jumlah rw\n"
          ]
        },
        {
          "output_type": "execute_result",
          "data": {
            "text/plain": [
              "50"
            ]
          },
          "metadata": {},
          "execution_count": 74
        }
      ]
    },
    {
      "cell_type": "code",
      "source": [
        "print(\"total jumlah A\")\n",
        "df[df['Daerah']=='A']['Jumlah RW'].sum()"
      ],
      "metadata": {
        "colab": {
          "base_uri": "https://localhost:8080/"
        },
        "id": "8-GnPadbuOQl",
        "outputId": "b69d596c-bc11-480a-d301-6fbcecd910f0"
      },
      "execution_count": 71,
      "outputs": [
        {
          "output_type": "stream",
          "name": "stdout",
          "text": [
            "total jumlah kk\n"
          ]
        },
        {
          "output_type": "execute_result",
          "data": {
            "text/plain": [
              "61"
            ]
          },
          "metadata": {},
          "execution_count": 71
        }
      ]
    },
    {
      "cell_type": "code",
      "source": [
        "print(\"total jumlah D\")\n",
        "df[df['Daerah']=='D']['Jumlah RW'].sum()"
      ],
      "metadata": {
        "colab": {
          "base_uri": "https://localhost:8080/"
        },
        "id": "YAEJObVyuO-c",
        "outputId": "896cdd01-e0f8-47a5-8ce1-6b9edf469ef8"
      },
      "execution_count": 77,
      "outputs": [
        {
          "output_type": "stream",
          "name": "stdout",
          "text": [
            "total jumlah kk\n"
          ]
        },
        {
          "output_type": "execute_result",
          "data": {
            "text/plain": [
              "79"
            ]
          },
          "metadata": {},
          "execution_count": 77
        }
      ]
    },
    {
      "cell_type": "code",
      "source": [
        "print(\"total jumlah E\")\n",
        "df[df['Daerah']=='E']['Jumlah RW'].sum()"
      ],
      "metadata": {
        "colab": {
          "base_uri": "https://localhost:8080/"
        },
        "id": "o2ocOxyhc29J",
        "outputId": "226ac93f-2d3f-4e6a-8819-8302fffcc026"
      },
      "execution_count": 78,
      "outputs": [
        {
          "output_type": "stream",
          "name": "stdout",
          "text": [
            "total jumlah kk\n"
          ]
        },
        {
          "output_type": "execute_result",
          "data": {
            "text/plain": [
              "47"
            ]
          },
          "metadata": {},
          "execution_count": 78
        }
      ]
    },
    {
      "cell_type": "code",
      "source": [
        "print(\"total jumlah F\")\n",
        "df[df['Daerah']=='F']['Jumlah RW'].sum()"
      ],
      "metadata": {
        "colab": {
          "base_uri": "https://localhost:8080/"
        },
        "id": "LYMvMUhNeR6T",
        "outputId": "8dcdfe0a-0318-44cd-c936-d368332d9050"
      },
      "execution_count": 86,
      "outputs": [
        {
          "output_type": "stream",
          "name": "stdout",
          "text": [
            "total jumlah F\n"
          ]
        },
        {
          "output_type": "execute_result",
          "data": {
            "text/plain": [
              "38"
            ]
          },
          "metadata": {},
          "execution_count": 86
        }
      ]
    },
    {
      "cell_type": "code",
      "source": [
        "\n",
        "print()\n",
        "fig = plt.figure()\n",
        "ax = fig.add_axes([0, 0, 1, 1,])\n",
        "jurusan = ['A','B','D','E','F']\n",
        "siswa = [61,50,79,47,38]\n",
        "c = ['blue','cyan','black']\n",
        "plt.title(\"Jumlah Jumlah Kepala Keluarga\")\n",
        "plt.bar(jurusan, siswa, color = c)\n",
        "plt.show()\n",
        "print()\n",
        "\n",
        "print()\n",
        "fig = plt.figure()\n",
        "ax = fig.add_axes([0,0,1,1])\n",
        "ax.axis('equal')\n",
        "jurusan = ['A','B','D','E','F']\n",
        "siswa = [61,50,79,47,38]\n",
        "ax.pie(siswa,labels=jurusan,autopct='%1.2f%%')\n",
        "plt.title(\"Jumlah Jumlah Kepala Keluarga\")\n",
        "plt.show()\n",
        "print(\"\")\n"
      ],
      "metadata": {
        "colab": {
          "base_uri": "https://localhost:8080/",
          "height": 739
        },
        "id": "l6c0-WZ_uinb",
        "outputId": "7526aef3-a7cd-4f1c-9747-0f3e57ebd9c8"
      },
      "execution_count": 106,
      "outputs": [
        {
          "output_type": "stream",
          "name": "stdout",
          "text": [
            "\n"
          ]
        },
        {
          "output_type": "display_data",
          "data": {
            "text/plain": [
              "<Figure size 432x288 with 1 Axes>"
            ],
            "image/png": "[encoded data removed]"
          },
          "metadata": {
            "needs_background": "light"
          }
        },
        {
          "output_type": "stream",
          "name": "stdout",
          "text": [
            "\n",
            "\n"
          ]
        },
        {
          "output_type": "display_data",
          "data": {
            "text/plain": [
              "<Figure size 432x288 with 1 Axes>"
            ],
            "image/png": "[encoded data removed]"
          },
          "metadata": {}
        },
        {
          "output_type": "stream",
          "name": "stdout",
          "text": [
            "\n"
          ]
        }
      ]
    },
    {
      "cell_type": "code",
      "source": [
        "print(\"total jumlah A\")\n",
        "df[df['Daerah']=='A']['Jumlah Kepala Keluarga'].sum()"
      ],
      "metadata": {
        "colab": {
          "base_uri": "https://localhost:8080/"
        },
        "id": "zp9vOoDZd9ij",
        "outputId": "87a99c2b-5fca-444c-e9db-c21f88bc9321"
      },
      "execution_count": 81,
      "outputs": [
        {
          "output_type": "stream",
          "name": "stdout",
          "text": [
            "total jumlah A\n"
          ]
        },
        {
          "output_type": "execute_result",
          "data": {
            "text/plain": [
              "157"
            ]
          },
          "metadata": {},
          "execution_count": 81
        }
      ]
    },
    {
      "cell_type": "code",
      "source": [
        "print(\"total jumlah B\")\n",
        "df[df['Daerah']=='B']['Jumlah Kepala Keluarga'].sum()"
      ],
      "metadata": {
        "colab": {
          "base_uri": "https://localhost:8080/"
        },
        "id": "wLZFDKExeEVb",
        "outputId": "7101e2f1-eb37-4a25-eecc-5fe8d79a1fe6"
      },
      "execution_count": 82,
      "outputs": [
        {
          "output_type": "stream",
          "name": "stdout",
          "text": [
            "total jumlah B\n"
          ]
        },
        {
          "output_type": "execute_result",
          "data": {
            "text/plain": [
              "176"
            ]
          },
          "metadata": {},
          "execution_count": 82
        }
      ]
    },
    {
      "cell_type": "code",
      "source": [
        "print(\"total jumlah D\")\n",
        "df[df['Daerah']=='D']['Jumlah Kepala Keluarga'].sum()"
      ],
      "metadata": {
        "colab": {
          "base_uri": "https://localhost:8080/"
        },
        "id": "DjHRbGtneH0d",
        "outputId": "b89e94af-89d2-45c2-8b12-7c433fb75cbc"
      },
      "execution_count": 83,
      "outputs": [
        {
          "output_type": "stream",
          "name": "stdout",
          "text": [
            "total jumlah D\n"
          ]
        },
        {
          "output_type": "execute_result",
          "data": {
            "text/plain": [
              "288"
            ]
          },
          "metadata": {},
          "execution_count": 83
        }
      ]
    },
    {
      "cell_type": "code",
      "source": [
        "print(\"total jumlah E\")\n",
        "df[df['Daerah']=='E']['Jumlah Kepala Keluarga'].sum()"
      ],
      "metadata": {
        "colab": {
          "base_uri": "https://localhost:8080/"
        },
        "id": "cj7ZoZR4eLT1",
        "outputId": "e95ed0d7-01f0-4ac6-fb96-a2476458b763"
      },
      "execution_count": 84,
      "outputs": [
        {
          "output_type": "stream",
          "name": "stdout",
          "text": [
            "total jumlah E\n"
          ]
        },
        {
          "output_type": "execute_result",
          "data": {
            "text/plain": [
              "142"
            ]
          },
          "metadata": {},
          "execution_count": 84
        }
      ]
    },
    {
      "cell_type": "code",
      "source": [
        "print(\"total jumlah F\")\n",
        "df[df['Daerah']=='F']['Jumlah Kepala Keluarga'].sum()"
      ],
      "metadata": {
        "colab": {
          "base_uri": "https://localhost:8080/"
        },
        "id": "R9AUHfm4eOPR",
        "outputId": "597df4e2-db62-4d12-876b-427183b4328a"
      },
      "execution_count": 88,
      "outputs": [
        {
          "output_type": "stream",
          "name": "stdout",
          "text": [
            "total jumlah F\n"
          ]
        },
        {
          "output_type": "execute_result",
          "data": {
            "text/plain": [
              "107"
            ]
          },
          "metadata": {},
          "execution_count": 88
        }
      ]
    },
    {
      "cell_type": "code",
      "source": [
        "print(\"soal 6 visualisasi data\")\n",
        "print()\n",
        "fig = plt.figure()\n",
        "ax = fig.add_axes([0, 0, 1, 1,])\n",
        "jurusan = ['A', 'B', 'D','E','F']\n",
        "siswa = [157,176,288,142,107]\n",
        "c = ['blue','cyan','black']\n",
        "plt.title(\"Jumlah Rata2 Usia  Keluarga\")\n",
        "plt.bar(jurusan, siswa, color = c)\n",
        "plt.show()\n",
        "print()\n",
        "\n",
        "print()\n",
        "fig = plt.figure()\n",
        "ax = fig.add_axes([0,0,1,1])\n",
        "ax.axis('equal')\n",
        "jurusan = ['A', 'B', 'D','E','F']\n",
        "siswa = [157,176,288,142,107]\n",
        "ax.pie(siswa,labels=jurusan,autopct='%1.2f%%')\n",
        "plt.title(\"Jumlah Rata2 Usia  Keluarga\")\n",
        "plt.show()\n",
        "print(\"\")\n"
      ],
      "metadata": {
        "colab": {
          "base_uri": "https://localhost:8080/",
          "height": 757
        },
        "id": "kvsa0NQIedoS",
        "outputId": "ed5dce9d-440e-456c-9de4-144ccbe5dd77"
      },
      "execution_count": 105,
      "outputs": [
        {
          "output_type": "stream",
          "name": "stdout",
          "text": [
            "soal 6 visualisasi data\n",
            "\n"
          ]
        },
        {
          "output_type": "display_data",
          "data": {
            "text/plain": [
              "<Figure size 432x288 with 1 Axes>"
            ],
            "image/png": "[encoded data removed]"
          },
          "metadata": {
            "needs_background": "light"
          }
        },
        {
          "output_type": "stream",
          "name": "stdout",
          "text": [
            "\n",
            "\n"
          ]
        },
        {
          "output_type": "display_data",
          "data": {
            "text/plain": [
              "<Figure size 432x288 with 1 Axes>"
            ],
            "image/png": "[encoded data removed]"
          },
          "metadata": {}
        },
        {
          "output_type": "stream",
          "name": "stdout",
          "text": [
            "\n"
          ]
        }
      ]
    },
    {
      "cell_type": "code",
      "source": [
        "wer = 1200000 + 1200000 + 1500000 + 1000000 + 1200000 + 1500000 + 1000000 + 1000000 + 1500000 + 1500000 + 1500000 + 1000000 + 1200000 + 1500000 + 1200000 + 1000000 + 1200000 + 1000000 + 1200000 + 1000000 + 1200000 + 1200000 + 1500000 + 1200000 + 1000000 + 1200000 + 1500000 + 1000000 \n",
        "print(\"nominal bantuan tanpa pajak : \" +str(wer))\n",
        "p6 = 0.04 * (9 * 1000000)\n",
        "p7 = 0.05 * (11 * 1200000)\n",
        "p8 = 0.07 * (8 * 1500000)\n",
        "haji = p6 + p7 + p8\n",
        "hai = wer - haji\n",
        "print(\"maka hasilnya adlaha : \" +str(hai))\n",
        "\n",
        "fig = plt.figure()\n",
        "ax = fig.add_axes([0, 0, 1, 1,])\n",
        "jurusan = ['A', 'B']\n",
        "siswa = [34200000,32340000.0]\n",
        "c = ['blue','cyan','black']\n",
        "plt.title(\"Jumlah Nominal Bantuan\")\n",
        "plt.bar(jurusan, siswa, color = c)\n",
        "plt.show()\n",
        "print()\n",
        "\n",
        "print()\n",
        "fig = plt.figure()\n",
        "ax = fig.add_axes([0,0,1,1])\n",
        "ax.axis('equal')\n",
        "jurusan = ['A', 'B']\n",
        "siswa = [34200000,32340000]\n",
        "ax.pie(siswa,labels=jurusan,autopct='%1.2f%%')\n",
        "plt.title(\"Jumlah Nominal Bantuan\")\n",
        "plt.show()\n",
        "print(\"\")\n"
      ],
      "metadata": {
        "colab": {
          "base_uri": "https://localhost:8080/",
          "height": 757
        },
        "id": "BKlsgSZwfd3B",
        "outputId": "d66e67e4-e75d-42f3-a448-0b25af916bde"
      },
      "execution_count": 107,
      "outputs": [
        {
          "output_type": "stream",
          "name": "stdout",
          "text": [
            "nominal bantuan tanpa pajak : 34200000\n",
            "maka hasilnya adlaha : 32340000.0\n"
          ]
        },
        {
          "output_type": "display_data",
          "data": {
            "text/plain": [
              "<Figure size 432x288 with 1 Axes>"
            ],
            "image/png": "[encoded data removed]"
          },
          "metadata": {
            "needs_background": "light"
          }
        },
        {
          "output_type": "stream",
          "name": "stdout",
          "text": [
            "\n",
            "\n"
          ]
        },
        {
          "output_type": "display_data",
          "data": {
            "text/plain": [
              "<Figure size 432x288 with 1 Axes>"
            ],
            "image/png": "[encoded data removed]"
          },
          "metadata": {}
        },
        {
          "output_type": "stream",
          "name": "stdout",
          "text": [
            "\n"
          ]
        }
      ]
    }
  ]
}